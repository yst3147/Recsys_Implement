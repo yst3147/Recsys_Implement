{
  "nbformat": 4,
  "nbformat_minor": 0,
  "metadata": {
    "colab": {
      "name": "NCF.ipynb",
      "provenance": [],
      "collapsed_sections": [],
      "machine_shape": "hm"
    },
    "kernelspec": {
      "name": "python3",
      "display_name": "Python 3"
    },
    "language_info": {
      "name": "python"
    },
    "accelerator": "GPU",
    "widgets": {
      "application/vnd.jupyter.widget-state+json": {
        "7cbdfeefef924a288d16417db2da7b7a": {
          "model_module": "@jupyter-widgets/controls",
          "model_name": "HBoxModel",
          "model_module_version": "1.5.0",
          "state": {
            "_dom_classes": [],
            "_model_module": "@jupyter-widgets/controls",
            "_model_module_version": "1.5.0",
            "_model_name": "HBoxModel",
            "_view_count": null,
            "_view_module": "@jupyter-widgets/controls",
            "_view_module_version": "1.5.0",
            "_view_name": "HBoxView",
            "box_style": "",
            "children": [
              "IPY_MODEL_84654c4cd481459a83a98c191c9f9668",
              "IPY_MODEL_65224b4f79c74ffc8911cef8721b2927",
              "IPY_MODEL_77444ca57883496f83ddea6a8e888731"
            ],
            "layout": "IPY_MODEL_6727312b7ffd4a239203668dc11e420b"
          }
        },
        "84654c4cd481459a83a98c191c9f9668": {
          "model_module": "@jupyter-widgets/controls",
          "model_name": "HTMLModel",
          "model_module_version": "1.5.0",
          "state": {
            "_dom_classes": [],
            "_model_module": "@jupyter-widgets/controls",
            "_model_module_version": "1.5.0",
            "_model_name": "HTMLModel",
            "_view_count": null,
            "_view_module": "@jupyter-widgets/controls",
            "_view_module_version": "1.5.0",
            "_view_name": "HTMLView",
            "description": "",
            "description_tooltip": null,
            "layout": "IPY_MODEL_a5add4a0e0c9493796344f2ee2541fa4",
            "placeholder": "​",
            "style": "IPY_MODEL_68bc328d27e84b4492f7f5dc9f908962",
            "value": ""
          }
        },
        "65224b4f79c74ffc8911cef8721b2927": {
          "model_module": "@jupyter-widgets/controls",
          "model_name": "FloatProgressModel",
          "model_module_version": "1.5.0",
          "state": {
            "_dom_classes": [],
            "_model_module": "@jupyter-widgets/controls",
            "_model_module_version": "1.5.0",
            "_model_name": "FloatProgressModel",
            "_view_count": null,
            "_view_module": "@jupyter-widgets/controls",
            "_view_module_version": "1.5.0",
            "_view_name": "ProgressView",
            "bar_style": "success",
            "description": "",
            "description_tooltip": null,
            "layout": "IPY_MODEL_76a89b6e7a7e4f0e90f9d4b8b2b353e1",
            "max": 1,
            "min": 0,
            "orientation": "horizontal",
            "style": "IPY_MODEL_7401207c20f54e8084884af86e2d8834",
            "value": 1
          }
        },
        "77444ca57883496f83ddea6a8e888731": {
          "model_module": "@jupyter-widgets/controls",
          "model_name": "HTMLModel",
          "model_module_version": "1.5.0",
          "state": {
            "_dom_classes": [],
            "_model_module": "@jupyter-widgets/controls",
            "_model_module_version": "1.5.0",
            "_model_name": "HTMLModel",
            "_view_count": null,
            "_view_module": "@jupyter-widgets/controls",
            "_view_module_version": "1.5.0",
            "_view_name": "HTMLView",
            "description": "",
            "description_tooltip": null,
            "layout": "IPY_MODEL_f1171b6404c841f4a6783d94715c2edd",
            "placeholder": "​",
            "style": "IPY_MODEL_0ec3a3804c5d497688cfcb8ed0a1960e",
            "value": " 610/? [00:58&lt;00:00, 10.30it/s]"
          }
        },
        "6727312b7ffd4a239203668dc11e420b": {
          "model_module": "@jupyter-widgets/base",
          "model_name": "LayoutModel",
          "model_module_version": "1.2.0",
          "state": {
            "_model_module": "@jupyter-widgets/base",
            "_model_module_version": "1.2.0",
            "_model_name": "LayoutModel",
            "_view_count": null,
            "_view_module": "@jupyter-widgets/base",
            "_view_module_version": "1.2.0",
            "_view_name": "LayoutView",
            "align_content": null,
            "align_items": null,
            "align_self": null,
            "border": null,
            "bottom": null,
            "display": null,
            "flex": null,
            "flex_flow": null,
            "grid_area": null,
            "grid_auto_columns": null,
            "grid_auto_flow": null,
            "grid_auto_rows": null,
            "grid_column": null,
            "grid_gap": null,
            "grid_row": null,
            "grid_template_areas": null,
            "grid_template_columns": null,
            "grid_template_rows": null,
            "height": null,
            "justify_content": null,
            "justify_items": null,
            "left": null,
            "margin": null,
            "max_height": null,
            "max_width": null,
            "min_height": null,
            "min_width": null,
            "object_fit": null,
            "object_position": null,
            "order": null,
            "overflow": null,
            "overflow_x": null,
            "overflow_y": null,
            "padding": null,
            "right": null,
            "top": null,
            "visibility": null,
            "width": null
          }
        },
        "a5add4a0e0c9493796344f2ee2541fa4": {
          "model_module": "@jupyter-widgets/base",
          "model_name": "LayoutModel",
          "model_module_version": "1.2.0",
          "state": {
            "_model_module": "@jupyter-widgets/base",
            "_model_module_version": "1.2.0",
            "_model_name": "LayoutModel",
            "_view_count": null,
            "_view_module": "@jupyter-widgets/base",
            "_view_module_version": "1.2.0",
            "_view_name": "LayoutView",
            "align_content": null,
            "align_items": null,
            "align_self": null,
            "border": null,
            "bottom": null,
            "display": null,
            "flex": null,
            "flex_flow": null,
            "grid_area": null,
            "grid_auto_columns": null,
            "grid_auto_flow": null,
            "grid_auto_rows": null,
            "grid_column": null,
            "grid_gap": null,
            "grid_row": null,
            "grid_template_areas": null,
            "grid_template_columns": null,
            "grid_template_rows": null,
            "height": null,
            "justify_content": null,
            "justify_items": null,
            "left": null,
            "margin": null,
            "max_height": null,
            "max_width": null,
            "min_height": null,
            "min_width": null,
            "object_fit": null,
            "object_position": null,
            "order": null,
            "overflow": null,
            "overflow_x": null,
            "overflow_y": null,
            "padding": null,
            "right": null,
            "top": null,
            "visibility": null,
            "width": null
          }
        },
        "68bc328d27e84b4492f7f5dc9f908962": {
          "model_module": "@jupyter-widgets/controls",
          "model_name": "DescriptionStyleModel",
          "model_module_version": "1.5.0",
          "state": {
            "_model_module": "@jupyter-widgets/controls",
            "_model_module_version": "1.5.0",
            "_model_name": "DescriptionStyleModel",
            "_view_count": null,
            "_view_module": "@jupyter-widgets/base",
            "_view_module_version": "1.2.0",
            "_view_name": "StyleView",
            "description_width": ""
          }
        },
        "76a89b6e7a7e4f0e90f9d4b8b2b353e1": {
          "model_module": "@jupyter-widgets/base",
          "model_name": "LayoutModel",
          "model_module_version": "1.2.0",
          "state": {
            "_model_module": "@jupyter-widgets/base",
            "_model_module_version": "1.2.0",
            "_model_name": "LayoutModel",
            "_view_count": null,
            "_view_module": "@jupyter-widgets/base",
            "_view_module_version": "1.2.0",
            "_view_name": "LayoutView",
            "align_content": null,
            "align_items": null,
            "align_self": null,
            "border": null,
            "bottom": null,
            "display": null,
            "flex": null,
            "flex_flow": null,
            "grid_area": null,
            "grid_auto_columns": null,
            "grid_auto_flow": null,
            "grid_auto_rows": null,
            "grid_column": null,
            "grid_gap": null,
            "grid_row": null,
            "grid_template_areas": null,
            "grid_template_columns": null,
            "grid_template_rows": null,
            "height": null,
            "justify_content": null,
            "justify_items": null,
            "left": null,
            "margin": null,
            "max_height": null,
            "max_width": null,
            "min_height": null,
            "min_width": null,
            "object_fit": null,
            "object_position": null,
            "order": null,
            "overflow": null,
            "overflow_x": null,
            "overflow_y": null,
            "padding": null,
            "right": null,
            "top": null,
            "visibility": null,
            "width": "20px"
          }
        },
        "7401207c20f54e8084884af86e2d8834": {
          "model_module": "@jupyter-widgets/controls",
          "model_name": "ProgressStyleModel",
          "model_module_version": "1.5.0",
          "state": {
            "_model_module": "@jupyter-widgets/controls",
            "_model_module_version": "1.5.0",
            "_model_name": "ProgressStyleModel",
            "_view_count": null,
            "_view_module": "@jupyter-widgets/base",
            "_view_module_version": "1.2.0",
            "_view_name": "StyleView",
            "bar_color": null,
            "description_width": ""
          }
        },
        "f1171b6404c841f4a6783d94715c2edd": {
          "model_module": "@jupyter-widgets/base",
          "model_name": "LayoutModel",
          "model_module_version": "1.2.0",
          "state": {
            "_model_module": "@jupyter-widgets/base",
            "_model_module_version": "1.2.0",
            "_model_name": "LayoutModel",
            "_view_count": null,
            "_view_module": "@jupyter-widgets/base",
            "_view_module_version": "1.2.0",
            "_view_name": "LayoutView",
            "align_content": null,
            "align_items": null,
            "align_self": null,
            "border": null,
            "bottom": null,
            "display": null,
            "flex": null,
            "flex_flow": null,
            "grid_area": null,
            "grid_auto_columns": null,
            "grid_auto_flow": null,
            "grid_auto_rows": null,
            "grid_column": null,
            "grid_gap": null,
            "grid_row": null,
            "grid_template_areas": null,
            "grid_template_columns": null,
            "grid_template_rows": null,
            "height": null,
            "justify_content": null,
            "justify_items": null,
            "left": null,
            "margin": null,
            "max_height": null,
            "max_width": null,
            "min_height": null,
            "min_width": null,
            "object_fit": null,
            "object_position": null,
            "order": null,
            "overflow": null,
            "overflow_x": null,
            "overflow_y": null,
            "padding": null,
            "right": null,
            "top": null,
            "visibility": null,
            "width": null
          }
        },
        "0ec3a3804c5d497688cfcb8ed0a1960e": {
          "model_module": "@jupyter-widgets/controls",
          "model_name": "DescriptionStyleModel",
          "model_module_version": "1.5.0",
          "state": {
            "_model_module": "@jupyter-widgets/controls",
            "_model_module_version": "1.5.0",
            "_model_name": "DescriptionStyleModel",
            "_view_count": null,
            "_view_module": "@jupyter-widgets/base",
            "_view_module_version": "1.2.0",
            "_view_name": "StyleView",
            "description_width": ""
          }
        },
        "1fad800a60e844b9b23953ea234ff84f": {
          "model_module": "@jupyter-widgets/controls",
          "model_name": "HBoxModel",
          "model_module_version": "1.5.0",
          "state": {
            "_dom_classes": [],
            "_model_module": "@jupyter-widgets/controls",
            "_model_module_version": "1.5.0",
            "_model_name": "HBoxModel",
            "_view_count": null,
            "_view_module": "@jupyter-widgets/controls",
            "_view_module_version": "1.5.0",
            "_view_name": "HBoxView",
            "box_style": "",
            "children": [
              "IPY_MODEL_087d394819f7410da7682d99d6eaede7",
              "IPY_MODEL_beb93f3f942041e9a48ec1b4a06a3fef",
              "IPY_MODEL_0fb8507d4a3c468296a0d8204df35d6d"
            ],
            "layout": "IPY_MODEL_3d758f2aff5d4d318b80332cd3a79047"
          }
        },
        "087d394819f7410da7682d99d6eaede7": {
          "model_module": "@jupyter-widgets/controls",
          "model_name": "HTMLModel",
          "model_module_version": "1.5.0",
          "state": {
            "_dom_classes": [],
            "_model_module": "@jupyter-widgets/controls",
            "_model_module_version": "1.5.0",
            "_model_name": "HTMLModel",
            "_view_count": null,
            "_view_module": "@jupyter-widgets/controls",
            "_view_module_version": "1.5.0",
            "_view_name": "HTMLView",
            "description": "",
            "description_tooltip": null,
            "layout": "IPY_MODEL_c44beab19e3f475ebdf70b0c614532f4",
            "placeholder": "​",
            "style": "IPY_MODEL_b2c78549fc4043fb88b6105820a2fd09",
            "value": "100%"
          }
        },
        "beb93f3f942041e9a48ec1b4a06a3fef": {
          "model_module": "@jupyter-widgets/controls",
          "model_name": "FloatProgressModel",
          "model_module_version": "1.5.0",
          "state": {
            "_dom_classes": [],
            "_model_module": "@jupyter-widgets/controls",
            "_model_module_version": "1.5.0",
            "_model_name": "FloatProgressModel",
            "_view_count": null,
            "_view_module": "@jupyter-widgets/controls",
            "_view_module_version": "1.5.0",
            "_view_name": "ProgressView",
            "bar_style": "success",
            "description": "",
            "description_tooltip": null,
            "layout": "IPY_MODEL_fbce6ccc02f444c5a171936b461d39de",
            "max": 30,
            "min": 0,
            "orientation": "horizontal",
            "style": "IPY_MODEL_06cd054336b54dbc8e63eb367abe63c1",
            "value": 30
          }
        },
        "0fb8507d4a3c468296a0d8204df35d6d": {
          "model_module": "@jupyter-widgets/controls",
          "model_name": "HTMLModel",
          "model_module_version": "1.5.0",
          "state": {
            "_dom_classes": [],
            "_model_module": "@jupyter-widgets/controls",
            "_model_module_version": "1.5.0",
            "_model_name": "HTMLModel",
            "_view_count": null,
            "_view_module": "@jupyter-widgets/controls",
            "_view_module_version": "1.5.0",
            "_view_name": "HTMLView",
            "description": "",
            "description_tooltip": null,
            "layout": "IPY_MODEL_85ed9eedbfdf4e61af1505852220515d",
            "placeholder": "​",
            "style": "IPY_MODEL_12a429bb6a0747428f6bb7e456b9e8a2",
            "value": " 30/30 [05:12&lt;00:00, 10.36s/it]"
          }
        },
        "3d758f2aff5d4d318b80332cd3a79047": {
          "model_module": "@jupyter-widgets/base",
          "model_name": "LayoutModel",
          "model_module_version": "1.2.0",
          "state": {
            "_model_module": "@jupyter-widgets/base",
            "_model_module_version": "1.2.0",
            "_model_name": "LayoutModel",
            "_view_count": null,
            "_view_module": "@jupyter-widgets/base",
            "_view_module_version": "1.2.0",
            "_view_name": "LayoutView",
            "align_content": null,
            "align_items": null,
            "align_self": null,
            "border": null,
            "bottom": null,
            "display": null,
            "flex": null,
            "flex_flow": null,
            "grid_area": null,
            "grid_auto_columns": null,
            "grid_auto_flow": null,
            "grid_auto_rows": null,
            "grid_column": null,
            "grid_gap": null,
            "grid_row": null,
            "grid_template_areas": null,
            "grid_template_columns": null,
            "grid_template_rows": null,
            "height": null,
            "justify_content": null,
            "justify_items": null,
            "left": null,
            "margin": null,
            "max_height": null,
            "max_width": null,
            "min_height": null,
            "min_width": null,
            "object_fit": null,
            "object_position": null,
            "order": null,
            "overflow": null,
            "overflow_x": null,
            "overflow_y": null,
            "padding": null,
            "right": null,
            "top": null,
            "visibility": null,
            "width": null
          }
        },
        "c44beab19e3f475ebdf70b0c614532f4": {
          "model_module": "@jupyter-widgets/base",
          "model_name": "LayoutModel",
          "model_module_version": "1.2.0",
          "state": {
            "_model_module": "@jupyter-widgets/base",
            "_model_module_version": "1.2.0",
            "_model_name": "LayoutModel",
            "_view_count": null,
            "_view_module": "@jupyter-widgets/base",
            "_view_module_version": "1.2.0",
            "_view_name": "LayoutView",
            "align_content": null,
            "align_items": null,
            "align_self": null,
            "border": null,
            "bottom": null,
            "display": null,
            "flex": null,
            "flex_flow": null,
            "grid_area": null,
            "grid_auto_columns": null,
            "grid_auto_flow": null,
            "grid_auto_rows": null,
            "grid_column": null,
            "grid_gap": null,
            "grid_row": null,
            "grid_template_areas": null,
            "grid_template_columns": null,
            "grid_template_rows": null,
            "height": null,
            "justify_content": null,
            "justify_items": null,
            "left": null,
            "margin": null,
            "max_height": null,
            "max_width": null,
            "min_height": null,
            "min_width": null,
            "object_fit": null,
            "object_position": null,
            "order": null,
            "overflow": null,
            "overflow_x": null,
            "overflow_y": null,
            "padding": null,
            "right": null,
            "top": null,
            "visibility": null,
            "width": null
          }
        },
        "b2c78549fc4043fb88b6105820a2fd09": {
          "model_module": "@jupyter-widgets/controls",
          "model_name": "DescriptionStyleModel",
          "model_module_version": "1.5.0",
          "state": {
            "_model_module": "@jupyter-widgets/controls",
            "_model_module_version": "1.5.0",
            "_model_name": "DescriptionStyleModel",
            "_view_count": null,
            "_view_module": "@jupyter-widgets/base",
            "_view_module_version": "1.2.0",
            "_view_name": "StyleView",
            "description_width": ""
          }
        },
        "fbce6ccc02f444c5a171936b461d39de": {
          "model_module": "@jupyter-widgets/base",
          "model_name": "LayoutModel",
          "model_module_version": "1.2.0",
          "state": {
            "_model_module": "@jupyter-widgets/base",
            "_model_module_version": "1.2.0",
            "_model_name": "LayoutModel",
            "_view_count": null,
            "_view_module": "@jupyter-widgets/base",
            "_view_module_version": "1.2.0",
            "_view_name": "LayoutView",
            "align_content": null,
            "align_items": null,
            "align_self": null,
            "border": null,
            "bottom": null,
            "display": null,
            "flex": null,
            "flex_flow": null,
            "grid_area": null,
            "grid_auto_columns": null,
            "grid_auto_flow": null,
            "grid_auto_rows": null,
            "grid_column": null,
            "grid_gap": null,
            "grid_row": null,
            "grid_template_areas": null,
            "grid_template_columns": null,
            "grid_template_rows": null,
            "height": null,
            "justify_content": null,
            "justify_items": null,
            "left": null,
            "margin": null,
            "max_height": null,
            "max_width": null,
            "min_height": null,
            "min_width": null,
            "object_fit": null,
            "object_position": null,
            "order": null,
            "overflow": null,
            "overflow_x": null,
            "overflow_y": null,
            "padding": null,
            "right": null,
            "top": null,
            "visibility": null,
            "width": null
          }
        },
        "06cd054336b54dbc8e63eb367abe63c1": {
          "model_module": "@jupyter-widgets/controls",
          "model_name": "ProgressStyleModel",
          "model_module_version": "1.5.0",
          "state": {
            "_model_module": "@jupyter-widgets/controls",
            "_model_module_version": "1.5.0",
            "_model_name": "ProgressStyleModel",
            "_view_count": null,
            "_view_module": "@jupyter-widgets/base",
            "_view_module_version": "1.2.0",
            "_view_name": "StyleView",
            "bar_color": null,
            "description_width": ""
          }
        },
        "85ed9eedbfdf4e61af1505852220515d": {
          "model_module": "@jupyter-widgets/base",
          "model_name": "LayoutModel",
          "model_module_version": "1.2.0",
          "state": {
            "_model_module": "@jupyter-widgets/base",
            "_model_module_version": "1.2.0",
            "_model_name": "LayoutModel",
            "_view_count": null,
            "_view_module": "@jupyter-widgets/base",
            "_view_module_version": "1.2.0",
            "_view_name": "LayoutView",
            "align_content": null,
            "align_items": null,
            "align_self": null,
            "border": null,
            "bottom": null,
            "display": null,
            "flex": null,
            "flex_flow": null,
            "grid_area": null,
            "grid_auto_columns": null,
            "grid_auto_flow": null,
            "grid_auto_rows": null,
            "grid_column": null,
            "grid_gap": null,
            "grid_row": null,
            "grid_template_areas": null,
            "grid_template_columns": null,
            "grid_template_rows": null,
            "height": null,
            "justify_content": null,
            "justify_items": null,
            "left": null,
            "margin": null,
            "max_height": null,
            "max_width": null,
            "min_height": null,
            "min_width": null,
            "object_fit": null,
            "object_position": null,
            "order": null,
            "overflow": null,
            "overflow_x": null,
            "overflow_y": null,
            "padding": null,
            "right": null,
            "top": null,
            "visibility": null,
            "width": null
          }
        },
        "12a429bb6a0747428f6bb7e456b9e8a2": {
          "model_module": "@jupyter-widgets/controls",
          "model_name": "DescriptionStyleModel",
          "model_module_version": "1.5.0",
          "state": {
            "_model_module": "@jupyter-widgets/controls",
            "_model_module_version": "1.5.0",
            "_model_name": "DescriptionStyleModel",
            "_view_count": null,
            "_view_module": "@jupyter-widgets/base",
            "_view_module_version": "1.2.0",
            "_view_name": "StyleView",
            "description_width": ""
          }
        },
        "b4530191154c4fbba4ee707646a3ea6d": {
          "model_module": "@jupyter-widgets/controls",
          "model_name": "HBoxModel",
          "model_module_version": "1.5.0",
          "state": {
            "_dom_classes": [],
            "_model_module": "@jupyter-widgets/controls",
            "_model_module_version": "1.5.0",
            "_model_name": "HBoxModel",
            "_view_count": null,
            "_view_module": "@jupyter-widgets/controls",
            "_view_module_version": "1.5.0",
            "_view_name": "HBoxView",
            "box_style": "",
            "children": [
              "IPY_MODEL_7527726d5b27495183db38494de48057",
              "IPY_MODEL_7ccc2a64f5754209a251cbe7a618713b",
              "IPY_MODEL_7f7ff8f34c174db58e5488822a6f59cb"
            ],
            "layout": "IPY_MODEL_9c3d5edc1c91404a8c37b758fb31816d"
          }
        },
        "7527726d5b27495183db38494de48057": {
          "model_module": "@jupyter-widgets/controls",
          "model_name": "HTMLModel",
          "model_module_version": "1.5.0",
          "state": {
            "_dom_classes": [],
            "_model_module": "@jupyter-widgets/controls",
            "_model_module_version": "1.5.0",
            "_model_name": "HTMLModel",
            "_view_count": null,
            "_view_module": "@jupyter-widgets/controls",
            "_view_module_version": "1.5.0",
            "_view_name": "HTMLView",
            "description": "",
            "description_tooltip": null,
            "layout": "IPY_MODEL_bd0ea09522c5412982e83827dda9f557",
            "placeholder": "​",
            "style": "IPY_MODEL_9b2e0554f9df4f40abbb4a80326afce2",
            "value": "100%"
          }
        },
        "7ccc2a64f5754209a251cbe7a618713b": {
          "model_module": "@jupyter-widgets/controls",
          "model_name": "FloatProgressModel",
          "model_module_version": "1.5.0",
          "state": {
            "_dom_classes": [],
            "_model_module": "@jupyter-widgets/controls",
            "_model_module_version": "1.5.0",
            "_model_name": "FloatProgressModel",
            "_view_count": null,
            "_view_module": "@jupyter-widgets/controls",
            "_view_module_version": "1.5.0",
            "_view_name": "ProgressView",
            "bar_style": "success",
            "description": "",
            "description_tooltip": null,
            "layout": "IPY_MODEL_06e425de45ec4b8c984b2373c5d0d9d6",
            "max": 30,
            "min": 0,
            "orientation": "horizontal",
            "style": "IPY_MODEL_757c9bae9356439d97877adf3719f82c",
            "value": 30
          }
        },
        "7f7ff8f34c174db58e5488822a6f59cb": {
          "model_module": "@jupyter-widgets/controls",
          "model_name": "HTMLModel",
          "model_module_version": "1.5.0",
          "state": {
            "_dom_classes": [],
            "_model_module": "@jupyter-widgets/controls",
            "_model_module_version": "1.5.0",
            "_model_name": "HTMLModel",
            "_view_count": null,
            "_view_module": "@jupyter-widgets/controls",
            "_view_module_version": "1.5.0",
            "_view_name": "HTMLView",
            "description": "",
            "description_tooltip": null,
            "layout": "IPY_MODEL_9a2d3f5e6f194fd38b927b4df1ef9d60",
            "placeholder": "​",
            "style": "IPY_MODEL_75c9389d829c45a296906c10dc057ac2",
            "value": " 30/30 [02:45&lt;00:00,  5.55s/it]"
          }
        },
        "9c3d5edc1c91404a8c37b758fb31816d": {
          "model_module": "@jupyter-widgets/base",
          "model_name": "LayoutModel",
          "model_module_version": "1.2.0",
          "state": {
            "_model_module": "@jupyter-widgets/base",
            "_model_module_version": "1.2.0",
            "_model_name": "LayoutModel",
            "_view_count": null,
            "_view_module": "@jupyter-widgets/base",
            "_view_module_version": "1.2.0",
            "_view_name": "LayoutView",
            "align_content": null,
            "align_items": null,
            "align_self": null,
            "border": null,
            "bottom": null,
            "display": null,
            "flex": null,
            "flex_flow": null,
            "grid_area": null,
            "grid_auto_columns": null,
            "grid_auto_flow": null,
            "grid_auto_rows": null,
            "grid_column": null,
            "grid_gap": null,
            "grid_row": null,
            "grid_template_areas": null,
            "grid_template_columns": null,
            "grid_template_rows": null,
            "height": null,
            "justify_content": null,
            "justify_items": null,
            "left": null,
            "margin": null,
            "max_height": null,
            "max_width": null,
            "min_height": null,
            "min_width": null,
            "object_fit": null,
            "object_position": null,
            "order": null,
            "overflow": null,
            "overflow_x": null,
            "overflow_y": null,
            "padding": null,
            "right": null,
            "top": null,
            "visibility": null,
            "width": null
          }
        },
        "bd0ea09522c5412982e83827dda9f557": {
          "model_module": "@jupyter-widgets/base",
          "model_name": "LayoutModel",
          "model_module_version": "1.2.0",
          "state": {
            "_model_module": "@jupyter-widgets/base",
            "_model_module_version": "1.2.0",
            "_model_name": "LayoutModel",
            "_view_count": null,
            "_view_module": "@jupyter-widgets/base",
            "_view_module_version": "1.2.0",
            "_view_name": "LayoutView",
            "align_content": null,
            "align_items": null,
            "align_self": null,
            "border": null,
            "bottom": null,
            "display": null,
            "flex": null,
            "flex_flow": null,
            "grid_area": null,
            "grid_auto_columns": null,
            "grid_auto_flow": null,
            "grid_auto_rows": null,
            "grid_column": null,
            "grid_gap": null,
            "grid_row": null,
            "grid_template_areas": null,
            "grid_template_columns": null,
            "grid_template_rows": null,
            "height": null,
            "justify_content": null,
            "justify_items": null,
            "left": null,
            "margin": null,
            "max_height": null,
            "max_width": null,
            "min_height": null,
            "min_width": null,
            "object_fit": null,
            "object_position": null,
            "order": null,
            "overflow": null,
            "overflow_x": null,
            "overflow_y": null,
            "padding": null,
            "right": null,
            "top": null,
            "visibility": null,
            "width": null
          }
        },
        "9b2e0554f9df4f40abbb4a80326afce2": {
          "model_module": "@jupyter-widgets/controls",
          "model_name": "DescriptionStyleModel",
          "model_module_version": "1.5.0",
          "state": {
            "_model_module": "@jupyter-widgets/controls",
            "_model_module_version": "1.5.0",
            "_model_name": "DescriptionStyleModel",
            "_view_count": null,
            "_view_module": "@jupyter-widgets/base",
            "_view_module_version": "1.2.0",
            "_view_name": "StyleView",
            "description_width": ""
          }
        },
        "06e425de45ec4b8c984b2373c5d0d9d6": {
          "model_module": "@jupyter-widgets/base",
          "model_name": "LayoutModel",
          "model_module_version": "1.2.0",
          "state": {
            "_model_module": "@jupyter-widgets/base",
            "_model_module_version": "1.2.0",
            "_model_name": "LayoutModel",
            "_view_count": null,
            "_view_module": "@jupyter-widgets/base",
            "_view_module_version": "1.2.0",
            "_view_name": "LayoutView",
            "align_content": null,
            "align_items": null,
            "align_self": null,
            "border": null,
            "bottom": null,
            "display": null,
            "flex": null,
            "flex_flow": null,
            "grid_area": null,
            "grid_auto_columns": null,
            "grid_auto_flow": null,
            "grid_auto_rows": null,
            "grid_column": null,
            "grid_gap": null,
            "grid_row": null,
            "grid_template_areas": null,
            "grid_template_columns": null,
            "grid_template_rows": null,
            "height": null,
            "justify_content": null,
            "justify_items": null,
            "left": null,
            "margin": null,
            "max_height": null,
            "max_width": null,
            "min_height": null,
            "min_width": null,
            "object_fit": null,
            "object_position": null,
            "order": null,
            "overflow": null,
            "overflow_x": null,
            "overflow_y": null,
            "padding": null,
            "right": null,
            "top": null,
            "visibility": null,
            "width": null
          }
        },
        "757c9bae9356439d97877adf3719f82c": {
          "model_module": "@jupyter-widgets/controls",
          "model_name": "ProgressStyleModel",
          "model_module_version": "1.5.0",
          "state": {
            "_model_module": "@jupyter-widgets/controls",
            "_model_module_version": "1.5.0",
            "_model_name": "ProgressStyleModel",
            "_view_count": null,
            "_view_module": "@jupyter-widgets/base",
            "_view_module_version": "1.2.0",
            "_view_name": "StyleView",
            "bar_color": null,
            "description_width": ""
          }
        },
        "9a2d3f5e6f194fd38b927b4df1ef9d60": {
          "model_module": "@jupyter-widgets/base",
          "model_name": "LayoutModel",
          "model_module_version": "1.2.0",
          "state": {
            "_model_module": "@jupyter-widgets/base",
            "_model_module_version": "1.2.0",
            "_model_name": "LayoutModel",
            "_view_count": null,
            "_view_module": "@jupyter-widgets/base",
            "_view_module_version": "1.2.0",
            "_view_name": "LayoutView",
            "align_content": null,
            "align_items": null,
            "align_self": null,
            "border": null,
            "bottom": null,
            "display": null,
            "flex": null,
            "flex_flow": null,
            "grid_area": null,
            "grid_auto_columns": null,
            "grid_auto_flow": null,
            "grid_auto_rows": null,
            "grid_column": null,
            "grid_gap": null,
            "grid_row": null,
            "grid_template_areas": null,
            "grid_template_columns": null,
            "grid_template_rows": null,
            "height": null,
            "justify_content": null,
            "justify_items": null,
            "left": null,
            "margin": null,
            "max_height": null,
            "max_width": null,
            "min_height": null,
            "min_width": null,
            "object_fit": null,
            "object_position": null,
            "order": null,
            "overflow": null,
            "overflow_x": null,
            "overflow_y": null,
            "padding": null,
            "right": null,
            "top": null,
            "visibility": null,
            "width": null
          }
        },
        "75c9389d829c45a296906c10dc057ac2": {
          "model_module": "@jupyter-widgets/controls",
          "model_name": "DescriptionStyleModel",
          "model_module_version": "1.5.0",
          "state": {
            "_model_module": "@jupyter-widgets/controls",
            "_model_module_version": "1.5.0",
            "_model_name": "DescriptionStyleModel",
            "_view_count": null,
            "_view_module": "@jupyter-widgets/base",
            "_view_module_version": "1.2.0",
            "_view_name": "StyleView",
            "description_width": ""
          }
        }
      }
    }
  },
  "cells": [
    {
      "cell_type": "markdown",
      "source": [
        "# The MovieLens Dataset"
      ],
      "metadata": {
        "id": "0imQjExusreI"
      }
    },
    {
      "cell_type": "markdown",
      "source": [
        "## Getting the Data"
      ],
      "metadata": {
        "id": "wCGdsEGPsurw"
      }
    },
    {
      "cell_type": "code",
      "source": [
        "import os\n",
        "import pandas as pd\n",
        "import matplotlib.pyplot as plt\n",
        "import random\n",
        "import numpy as np\n",
        "import torch\n",
        "import torch.nn as nn\n",
        "from torch.nn.init import normal_ \n",
        "import torch.optim as optim\n",
        "from torch.utils.data import DataLoader, Dataset\n",
        "\n",
        "from sklearn.model_selection import train_test_split\n",
        "from sklearn.preprocessing import LabelEncoder\n",
        "\n",
        "from tqdm.notebook import tqdm"
      ],
      "metadata": {
        "id": "crE_yA_9s9Dp"
      },
      "execution_count": 1,
      "outputs": []
    },
    {
      "cell_type": "code",
      "source": [
        "# random seed 고정\n",
        "\n",
        "seed = 42  \n",
        "random.seed(seed)\n",
        "np.random.seed(seed)"
      ],
      "metadata": {
        "id": "slL7WHFZuTeU"
      },
      "execution_count": 2,
      "outputs": []
    },
    {
      "cell_type": "code",
      "source": [
        "from google.colab import drive\n",
        "drive.mount('/content/drive')"
      ],
      "metadata": {
        "colab": {
          "base_uri": "https://localhost:8080/"
        },
        "id": "WA1VYX1DtNXj",
        "outputId": "3fd3df85-ddc6-41ec-ebac-826eeebd0231"
      },
      "execution_count": 3,
      "outputs": [
        {
          "output_type": "stream",
          "name": "stdout",
          "text": [
            "Mounted at /content/drive\n"
          ]
        }
      ]
    },
    {
      "cell_type": "code",
      "execution_count": 4,
      "metadata": {
        "id": "yoWtDvsFrsJq"
      },
      "outputs": [],
      "source": [
        "# !wget http://files.grouplens.org/datasets/movielens/ml-latest-small.zip"
      ]
    },
    {
      "cell_type": "code",
      "source": [
        "# !unzip ml-latest-small.zip -d /content/drive/MyDrive/Boostcamp_AI_Tech/Recsys_Implement/NCF"
      ],
      "metadata": {
        "id": "4AtlofcEtEdz"
      },
      "execution_count": 5,
      "outputs": []
    },
    {
      "cell_type": "code",
      "source": [
        "def read_data_ml100k():\n",
        "    data_dir = '/content/drive/MyDrive/Boostcamp_AI_Tech/Recsys_Implement/NCF/ml-latest-small'\n",
        "    names = ['user_id', 'item_id', 'rating', 'timestamp']\n",
        "    data = pd.read_csv(os.path.join(data_dir, 'ratings.csv'), names = names, header=0)\n",
        "    num_users = data.user_id.unique().shape[0]\n",
        "    num_items = data.item_id.unique().shape[0]\n",
        "    return data, num_users, num_items"
      ],
      "metadata": {
        "id": "5aKNCL9GtgSw"
      },
      "execution_count": 6,
      "outputs": []
    },
    {
      "cell_type": "code",
      "source": [
        "model_dir = '/content/drive/MyDrive/Boostcamp_AI_Tech/Recsys_Implement/NCF/model'"
      ],
      "metadata": {
        "id": "6kbA-Bo5OzEH"
      },
      "execution_count": 7,
      "outputs": []
    },
    {
      "cell_type": "markdown",
      "source": [
        "## Statistics of the Dataset"
      ],
      "metadata": {
        "id": "pg-6pPJru-Qt"
      }
    },
    {
      "cell_type": "code",
      "source": [
        "data, num_users, num_items = read_data_ml100k()\n",
        "sparsity = 1 - len(data) / (num_users * num_items)\n",
        "print(f'number of users: {num_users}, number of items: {num_items}')\n",
        "print(f'matrix sparsity: {sparsity:f}')\n",
        "print(data.head())"
      ],
      "metadata": {
        "colab": {
          "base_uri": "https://localhost:8080/"
        },
        "id": "18TDJUZKuKiW",
        "outputId": "83cbc453-f585-407c-c80b-6ec2316d2460"
      },
      "execution_count": 8,
      "outputs": [
        {
          "output_type": "stream",
          "name": "stdout",
          "text": [
            "number of users: 610, number of items: 9724\n",
            "matrix sparsity: 0.983000\n",
            "   user_id  item_id  rating  timestamp\n",
            "0        1        1     4.0  964982703\n",
            "1        1        3     4.0  964981247\n",
            "2        1        6     4.0  964982224\n",
            "3        1       47     5.0  964983815\n",
            "4        1       50     5.0  964982931\n"
          ]
        }
      ]
    },
    {
      "cell_type": "code",
      "source": [
        "plt.hist(data['rating'], bins=5, ec='black')\n",
        "plt.xlabel('Rating')\n",
        "plt.ylabel('Count')\n",
        "plt.title('Distribution of Ratings in MovieLens 100K')\n",
        "plt.show()"
      ],
      "metadata": {
        "colab": {
          "base_uri": "https://localhost:8080/",
          "height": 295
        },
        "id": "ZBOcxp3TuMET",
        "outputId": "e25fd995-a46d-480f-e583-a0ce09c93c3e"
      },
      "execution_count": 9,
      "outputs": [
        {
          "output_type": "display_data",
          "data": {
            "text/plain": [
              "<Figure size 432x288 with 1 Axes>"
            ],
            "image/png": "[encoded data removed]"
          },
          "metadata": {
            "needs_background": "light"
          }
        }
      ]
    },
    {
      "cell_type": "markdown",
      "source": [
        "### Implicit Feedback 데이터로 변환"
      ],
      "metadata": {
        "id": "7MvuHgg_Iuv6"
      }
    },
    {
      "cell_type": "code",
      "source": [
        "user_ids = data['user_id'].unique()\n",
        "item_ids = data['item_id'].unique()\n",
        "\n",
        "ratings_matrix = data.pivot(index='user_id', columns='item_id', values='rating')\n",
        "\n",
        "implicit_df = dict()\n",
        "implicit_df['user_id'] = list()\n",
        "implicit_df['item_id'] = list()\n",
        "implicit_df['label'] = list()\n",
        "user_dict = dict()\n",
        "item_dict = dict()\n",
        "\n",
        "for u, user_id in tqdm(enumerate(user_ids)):\n",
        "    user_dict[u] = user_id\n",
        "    for i, item_id in enumerate(item_ids):\n",
        "        if i not in item_dict:\n",
        "            item_dict[i] = item_id\n",
        "        implicit_df['user_id'].append(u)\n",
        "        implicit_df['item_id'].append(i)\n",
        "        if pd.isna(ratings_matrix.loc[user_id, item_id]):\n",
        "            implicit_df['label'].append(0)\n",
        "        else:\n",
        "            implicit_df['label'].append(1)\n",
        "\n",
        "implicit_df = pd.DataFrame(implicit_df)"
      ],
      "metadata": {
        "colab": {
          "base_uri": "https://localhost:8080/",
          "height": 49,
          "referenced_widgets": [
            "7cbdfeefef924a288d16417db2da7b7a",
            "84654c4cd481459a83a98c191c9f9668",
            "65224b4f79c74ffc8911cef8721b2927",
            "77444ca57883496f83ddea6a8e888731",
            "6727312b7ffd4a239203668dc11e420b",
            "a5add4a0e0c9493796344f2ee2541fa4",
            "68bc328d27e84b4492f7f5dc9f908962",
            "76a89b6e7a7e4f0e90f9d4b8b2b353e1",
            "7401207c20f54e8084884af86e2d8834",
            "f1171b6404c841f4a6783d94715c2edd",
            "0ec3a3804c5d497688cfcb8ed0a1960e"
          ]
        },
        "id": "nmMFGM0NIuRK",
        "outputId": "78db66c2-2f38-499f-c6e0-d7d877bf5d1e"
      },
      "execution_count": 10,
      "outputs": [
        {
          "output_type": "display_data",
          "data": {
            "text/plain": [
              "0it [00:00, ?it/s]"
            ],
            "application/vnd.jupyter.widget-view+json": {
              "version_major": 2,
              "version_minor": 0,
              "model_id": "7cbdfeefef924a288d16417db2da7b7a"
            }
          },
          "metadata": {}
        }
      ]
    },
    {
      "cell_type": "markdown",
      "source": [
        "## Label Encoding"
      ],
      "metadata": {
        "id": "kSVEDkhRAC2l"
      }
    },
    {
      "cell_type": "code",
      "source": [
        "user_le = LabelEncoder()\n",
        "item_le = LabelEncoder()\n",
        "implicit_df['user_id'] = user_le.fit_transform(implicit_df['user_id'].values)\n",
        "implicit_df['item_id'] = item_le.fit_transform(implicit_df['item_id'].values)"
      ],
      "metadata": {
        "id": "F41LX-_GAB1O"
      },
      "execution_count": 11,
      "outputs": []
    },
    {
      "cell_type": "markdown",
      "source": [
        "## Loading the data"
      ],
      "metadata": {
        "id": "OzBvdP4J-9B9"
      }
    },
    {
      "cell_type": "code",
      "source": [
        "class MovieLensDataset(Dataset):\n",
        "    def __init__(self, df, n_negs = 2, train=False):\n",
        "        # class init\n",
        "        self.df = df\n",
        "        self.train = train\n",
        "        self.n_negs = n_negs\n",
        "\n",
        "        # data split\n",
        "        self.user_list = self.df['user_id'].unique()\n",
        "        self.new_df = pd.DataFrame()\n",
        "\n",
        "        for user_id in self.user_list:\n",
        "            self.temp_df = self.df[self.df['user_id'] == user_id]\n",
        "            if self.train == True:\n",
        "                self.positive_sample = self.temp_df[self.temp_df['label'] == 1].iloc[:-1]\n",
        "                self.negative_sample = self.temp_df[self.temp_df['label'] == 0].sample(len(self.positive_sample) * self.n_negs, replace = False, random_state=42)\n",
        "            else:\n",
        "                self.positive_sample = self.temp_df[self.temp_df['label'] == 1].iloc[-1:]\n",
        "                self.negative_sample = self.temp_df[self.temp_df['label'] == 0].sample(99, replace = False, random_state=42)\n",
        "            self.new_df = pd.concat([self.new_df, self.positive_sample, self.negative_sample], ignore_index = True)\n",
        "        self.df = self.new_df\n",
        "\n",
        "        # dataloader getitem\n",
        "        self.users = torch.tensor(self.df['user_id'].values)\n",
        "        self.items = torch.tensor(self.df['item_id'].values)\n",
        "        self.labels = torch.tensor(self.df['label'].values)\n",
        "        \n",
        "    def __len__(self):\n",
        "        return len(self.df)\n",
        "\n",
        "    def __getitem__(self, index):\n",
        "        users = self.users[index]\n",
        "        items = self.items[index]\n",
        "        labels = self.labels[index]\n",
        "        return (users, items, labels.float())"
      ],
      "metadata": {
        "id": "_U_rQGQr6bac"
      },
      "execution_count": 12,
      "outputs": []
    },
    {
      "cell_type": "markdown",
      "source": [
        "## activation_layer"
      ],
      "metadata": {
        "id": "tJv_U6BLBaWf"
      }
    },
    {
      "cell_type": "code",
      "source": [
        "def activation_layer(activation_name='relu'):\n",
        "\n",
        "    if activation_name is None:\n",
        "        activation = None\n",
        "    elif isinstance(activation_name, str):\n",
        "        if activation_name.lower() == 'sigmoid':\n",
        "            activation = nn.Sigmoid()\n",
        "        elif activation_name.lower() == 'tanh':\n",
        "            activation = nn.Tanh()\n",
        "        elif activation_name.lower() == 'relu':\n",
        "            activation = nn.ReLU()\n",
        "        elif activation_name.lower() == 'leakyrelu':\n",
        "            activation = nn.LeakyReLU()\n",
        "        elif activation_name.lower() == 'none':\n",
        "            activation = None\n",
        "    elif issubclass(activation_name, nn.Module):\n",
        "        activation = activation_name()\n",
        "    else:\n",
        "        raise NotImplementedError(\"activation function {} is not implemented\".format(activation_name))\n",
        "\n",
        "    return activation"
      ],
      "metadata": {
        "id": "gwz1NTEQBZ33"
      },
      "execution_count": 13,
      "outputs": []
    },
    {
      "cell_type": "markdown",
      "source": [
        "## MLPLayers"
      ],
      "metadata": {
        "id": "pcClFmB1BTNV"
      }
    },
    {
      "cell_type": "code",
      "source": [
        "class MLPLayers(nn.Module):\n",
        "\n",
        "    def __init__(self, layers, dropout, activation='relu'):\n",
        "        super(MLPLayers, self).__init__()\n",
        "        \n",
        "        # initialize Class attributes\n",
        "        self.layers = layers\n",
        "        self.n_layers = len(self.layers) - 1\n",
        "        self.dropout = dropout\n",
        "        self.activation = activation\n",
        "        \n",
        "        # define layers\n",
        "        mlp_modules = list()\n",
        "        for i in range(self.n_layers):\n",
        "            mlp_modules.append(nn.Dropout(p=self.dropout))\n",
        "            input_size = self.layers[i] \n",
        "            output_size = self.layers[i + 1] \n",
        "            mlp_modules.append(nn.Linear(input_size, output_size))\n",
        "            activation_function = activation_layer(self.activation)\n",
        "            if activation_function is not None:\n",
        "                mlp_modules.append(activation_function)\n",
        "\n",
        "        self.mlp_layers = nn.Sequential(*mlp_modules)\n",
        "        \n",
        "        self._init_weights()\n",
        "        \n",
        "    # initialize weights\n",
        "    def _init_weights(self):\n",
        "        for m in self.modules():\n",
        "            if isinstance(m, nn.Linear):\n",
        "                nn.init.xavier_uniform_(m.weight)\n",
        "                if m.bias is not None:\n",
        "                    m.bias.data.fill_(0.0)\n",
        "    \n",
        "    def forward(self, input_feature):\n",
        "        return self.mlp_layers(input_feature)"
      ],
      "metadata": {
        "id": "GPpb-WCjBQz2"
      },
      "execution_count": 14,
      "outputs": []
    },
    {
      "cell_type": "markdown",
      "source": [
        "## NCF Model"
      ],
      "metadata": {
        "id": "8Uvcja0PabxM"
      }
    },
    {
      "cell_type": "code",
      "source": [
        "class NCF(nn.Module):\n",
        "\n",
        "    def __init__(self, n_users, n_items, emb_dim, num_layers, dropout):\n",
        "        super(NCF, self).__init__()\n",
        "        \n",
        "        # initialize Class attributes\n",
        "        self.n_users = n_users\n",
        "        self.n_items = n_items\n",
        "        self.emb_dim = emb_dim\n",
        "        self.num_layers = num_layers\n",
        "        self.layers = [self.emb_dim * 2 // (2 ** i) for i in range(self.num_layers + 1)]\n",
        "        self.dropout = dropout\n",
        "        \n",
        "        # define layers\n",
        "        self.user_embedding = nn.Embedding(n_users, emb_dim) \n",
        "        self.item_embedding = nn.Embedding(n_items, emb_dim) \n",
        "        self.mlp_layers = MLPLayers(self.layers, self.dropout)\n",
        "        self.predict_layer = nn.Linear(self.layers[-1] , 1) \n",
        "        self.sigmoid = nn.Sigmoid()\n",
        "        \n",
        "        self._init_weights()\n",
        "        \n",
        "    # initialize weights\n",
        "    def _init_weights(self):\n",
        "        for m in self.modules():\n",
        "            if isinstance(m, nn.Embedding):\n",
        "                normal_(m.weight, mean=0.0, std=0.01)\n",
        "            elif isinstance(m, nn.Linear):\n",
        "                nn.init.kaiming_uniform_(m.weight, a=1, nonlinearity=\"sigmoid\")\n",
        "                if m.bias is not None:\n",
        "                    m.bias.data.fill_(0.0)\n",
        "\n",
        "\n",
        "    \n",
        "    def forward(self, user, item):   \n",
        "        user_emb = self.user_embedding(user) \n",
        "        item_emb = self.item_embedding(item) \n",
        "        \n",
        "        input_feature = torch.cat((user_emb, item_emb), -1) \n",
        "        mlp_output =  self.mlp_layers(input_feature) \n",
        "        output = self.predict_layer(mlp_output) \n",
        "        output = self.sigmoid(output)\n",
        "        return output.squeeze(-1)"
      ],
      "metadata": {
        "id": "bwVDYRK938DZ"
      },
      "execution_count": 15,
      "outputs": []
    },
    {
      "cell_type": "markdown",
      "source": [
        "## GMF Model"
      ],
      "metadata": {
        "id": "vmuVwdRSHp3K"
      }
    },
    {
      "cell_type": "code",
      "source": [
        "class GMF(nn.Module):\n",
        "    def __init__(self, num_user, num_item, emb_dim):\n",
        "        super(GMF, self).__init__()\n",
        "        self.user_embedding = nn.Embedding(num_user, emb_dim)\n",
        "        self.item_embedding = nn.Embedding(num_item, emb_dim)\n",
        "        \n",
        "        self.predict_layer = nn.Linear(emb_dim, 1, bias = False)\n",
        "        self.sigmoid = nn.Sigmoid()\n",
        "        \n",
        "        self._init_weights()\n",
        "        \n",
        "    # initialize weights\n",
        "    def _init_weights(self):\n",
        "        for m in self.modules():\n",
        "            if isinstance(m, nn.Embedding):\n",
        "                normal_(m.weight, mean=0.0, std=0.01)\n",
        "            elif isinstance(m, nn.Linear):\n",
        "                nn.init.kaiming_uniform_(m.weight, a=1, nonlinearity=\"sigmoid\")\n",
        "                if m.bias is not None:\n",
        "                    m.bias.data.fill_(0.0)\n",
        "    \n",
        "    def forward(self, user, item):\n",
        "        user_emb = self.user_embedding(user)\n",
        "        item_emb = self.item_embedding(item)\n",
        "        gmf = user_emb * item_emb\n",
        "\n",
        "        output = self.predict_layer(gmf) \n",
        "        output = self.sigmoid(output)\n",
        "\n",
        "        return output.squeeze(-1)"
      ],
      "metadata": {
        "id": "e3U2LheaHpPa"
      },
      "execution_count": 16,
      "outputs": []
    },
    {
      "cell_type": "markdown",
      "source": [
        "## Training and Evaluating the Model"
      ],
      "metadata": {
        "id": "HmKzUNVYl2B4"
      }
    },
    {
      "cell_type": "code",
      "source": [
        "def hit(target_item, pred_items):\n",
        "    if target_item in pred_items:\n",
        "        return 1\n",
        "    return 0\n",
        "\n",
        "def ndcg(target_item, pred_items):\n",
        "    if target_item in pred_items:\n",
        "        idx = pred_items.index(target_item)\n",
        "        # 초기 인덱스가 0이기 때문에 idx + 1 -> idx + 2\n",
        "        return np.reciprocal(np.log2(idx + 2))\n",
        "    return 0"
      ],
      "metadata": {
        "id": "2PXMs_fkIsHO"
      },
      "execution_count": 17,
      "outputs": []
    },
    {
      "cell_type": "code",
      "source": [
        "def trainer(model, dataloader, loss_fn, optm):\n",
        "    model.train() # to train mode\n",
        "    train_loss = 0\n",
        "\n",
        "    for (users, items, labels) in dataloader:\n",
        "        users, items, labels = users.to(device), items.to(device), labels.to(device)    \n",
        "\n",
        "        preds = model(users, items)\n",
        "        loss = loss_fn(preds, labels)\n",
        "\n",
        "        # Update\n",
        "        optm.zero_grad()      # reset gradient \n",
        "        loss.backward()      # backpropagate\n",
        "        optm.step()      # optimizer update\n",
        "        \n",
        "        train_loss += loss.item()\n",
        "    \n",
        "    loss_avg = train_loss / len(dataloader)\n",
        "\n",
        "    return loss_avg"
      ],
      "metadata": {
        "id": "6-vWFsDZl7GZ"
      },
      "execution_count": 18,
      "outputs": []
    },
    {
      "cell_type": "code",
      "source": [
        "def evaluator(model, dataloader, top_k):\n",
        "    model.eval()\n",
        "    HR, NDCG = [], []\n",
        "    with torch.no_grad():\n",
        "        for user, item, _ in dataloader:\n",
        "            user = user.to(device)\n",
        "            item = item.to(device)\n",
        "\n",
        "            predictions = model(user, item)\n",
        "            # 가장 높은 top_k개 선택\n",
        "            _, indices = torch.topk(predictions, top_k)\n",
        "            # 해당 상품 index 선택\n",
        "            recommends = torch.take(item, indices).cpu().numpy().tolist()\n",
        "            # 정답 target 선택\n",
        "            target_item = item[0].item()\n",
        "            HR.append(hit(target_item, recommends))\n",
        "            NDCG.append(ndcg(target_item, recommends))\n",
        "\n",
        "    return np.mean(HR), np.mean(NDCG)"
      ],
      "metadata": {
        "id": "uBdquVPhhJlR"
      },
      "execution_count": 19,
      "outputs": []
    },
    {
      "cell_type": "code",
      "source": [
        "n_negs = 2\n",
        "\n",
        "batch_size = 256\n",
        "emb_dim = 64\n",
        "num_layers = 2\n",
        "dropout = 0.2\n",
        "num_epochs = 30\n",
        "lr = 0.005\n",
        "gpu_idx = 0\n",
        "\n",
        "top_k = 30\n",
        "\n",
        "n_users = implicit_df.user_id.max() + 1\n",
        "n_items = implicit_df.item_id.max() + 1\n",
        "\n",
        "torch.manual_seed(seed)\n",
        "if torch.cuda.is_available():\n",
        "    torch.cuda.manual_seed_all(seed)\n",
        "    torch.backends.cudnn.deterministic = True\n",
        "\n",
        "device = torch.device(\"cuda:{}\".format(gpu_idx) if torch.cuda.is_available() else \"cpu\")"
      ],
      "metadata": {
        "id": "rDzQu3sUCYfS"
      },
      "execution_count": 20,
      "outputs": []
    },
    {
      "cell_type": "code",
      "source": [
        "train_dataset = MovieLensDataset(df=implicit_df, n_negs=n_negs, train=True)\n",
        "test_dataset = MovieLensDataset(df=implicit_df, n_negs=n_negs, train=False)\n",
        "\n",
        "train_dataloader = DataLoader(dataset=train_dataset, batch_size=batch_size, shuffle=True, drop_last=True) \n",
        "test_dataloader = DataLoader(dataset=test_dataset, batch_size=100, shuffle=False, drop_last=True)"
      ],
      "metadata": {
        "id": "duxvo9hYmRB2"
      },
      "execution_count": 21,
      "outputs": []
    },
    {
      "cell_type": "markdown",
      "source": [
        "## NCF + GMF Train"
      ],
      "metadata": {
        "id": "CIgoyxlyJ6hI"
      }
    },
    {
      "cell_type": "code",
      "source": [
        "ncf = NCF(n_users, n_items, emb_dim, num_layers, dropout).to(device)\n",
        "ncf_optm = optim.Adam(ncf.parameters(), lr=lr, amsgrad=True)\n",
        "\n",
        "gmf = GMF(n_users, n_items, emb_dim).to(device)\n",
        "gmf_optm = optim.Adam(gmf.parameters(), lr=lr, amsgrad=True)\n",
        "\n",
        "loss = nn.BCELoss().to(device)"
      ],
      "metadata": {
        "id": "Dzp_nOkewbZV"
      },
      "execution_count": 22,
      "outputs": []
    },
    {
      "cell_type": "code",
      "source": [
        "gmf_losses = []\n",
        "gmf_hr_list = []\n",
        "gmf_ndcg_list = []\n",
        "ncf_losses = []\n",
        "ncf_hr_list = []\n",
        "ncf_ndcg_list = []\n",
        "\n",
        "gmf_min_loss = float(\"inf\")\n",
        "ncf_min_loss = float(\"inf\")\n",
        "\n",
        "for epoch in tqdm(range(num_epochs)):\n",
        "\n",
        "    ncf_loss = trainer(ncf, train_dataloader, loss, ncf_optm)\n",
        "    ncf_hr, ncf_ndcg = evaluator(ncf, test_dataloader, top_k)\n",
        "\n",
        "    ncf_losses.append(ncf_loss)\n",
        "    ncf_hr_list.append(ncf_hr)\n",
        "    ncf_ndcg_list.append(ncf_ndcg)\n",
        "\n",
        "    gmf_loss = trainer(gmf, train_dataloader, loss, gmf_optm)\n",
        "    gmf_hr, gmf_ndcg = evaluator(gmf, test_dataloader, top_k)\n",
        "\n",
        "    gmf_losses.append(gmf_loss)\n",
        "    gmf_hr_list.append(gmf_hr)\n",
        "    gmf_ndcg_list.append(gmf_ndcg)\n",
        "\n",
        "    print(f'epoch: {epoch + 1}, NCF Loss: {ncf_loss:.4f}, GMF Loss: {gmf_loss:.4f}, NCF HR: {ncf_hr:.4f}, GMF HR: {gmf_hr:.4f}, NCF NDCG: {ncf_ndcg:.4f}, GMF NDCG: {gmf_ndcg:.4f}')\n",
        "\n",
        "    if ncf_min_loss > ncf_loss:\n",
        "        ncf_min_loss = ncf_loss\n",
        "        torch.save(ncf.state_dict(), os.path.join(model_dir, 'NCF.pt'))\n",
        "\n",
        "    if gmf_min_loss > gmf_loss:\n",
        "        gmf_min_loss = gmf_loss\n",
        "        torch.save(gmf.state_dict(),  os.path.join(model_dir, 'GMF.pt'))"
      ],
      "metadata": {
        "colab": {
          "base_uri": "https://localhost:8080/",
          "height": 570,
          "referenced_widgets": [
            "1fad800a60e844b9b23953ea234ff84f",
            "087d394819f7410da7682d99d6eaede7",
            "beb93f3f942041e9a48ec1b4a06a3fef",
            "0fb8507d4a3c468296a0d8204df35d6d",
            "3d758f2aff5d4d318b80332cd3a79047",
            "c44beab19e3f475ebdf70b0c614532f4",
            "b2c78549fc4043fb88b6105820a2fd09",
            "fbce6ccc02f444c5a171936b461d39de",
            "06cd054336b54dbc8e63eb367abe63c1",
            "85ed9eedbfdf4e61af1505852220515d",
            "12a429bb6a0747428f6bb7e456b9e8a2"
          ]
        },
        "id": "ZtzeK531ML_j",
        "outputId": "8f104039-c897-4f2d-b151-df252cfa0d48"
      },
      "execution_count": 23,
      "outputs": [
        {
          "output_type": "display_data",
          "data": {
            "text/plain": [
              "  0%|          | 0/30 [00:00<?, ?it/s]"
            ],
            "application/vnd.jupyter.widget-view+json": {
              "version_major": 2,
              "version_minor": 0,
              "model_id": "1fad800a60e844b9b23953ea234ff84f"
            }
          },
          "metadata": {}
        },
        {
          "output_type": "stream",
          "name": "stdout",
          "text": [
            "epoch: 1, NCF Loss: 0.4394, GMF Loss: 0.4618, NCF HR: 0.3705, GMF HR: 0.4705, NCF NDCG: 0.1381, GMF NDCG: 0.1946\n",
            "epoch: 2, NCF Loss: 0.3964, GMF Loss: 0.2442, NCF HR: 0.3820, GMF HR: 0.5951, NCF NDCG: 0.1481, GMF NDCG: 0.3108\n",
            "epoch: 3, NCF Loss: 0.3808, GMF Loss: 0.0653, NCF HR: 0.3869, GMF HR: 0.6344, NCF NDCG: 0.1611, GMF NDCG: 0.3574\n",
            "epoch: 4, NCF Loss: 0.3575, GMF Loss: 0.0163, NCF HR: 0.4279, GMF HR: 0.6311, NCF NDCG: 0.1991, GMF NDCG: 0.3725\n",
            "epoch: 5, NCF Loss: 0.3307, GMF Loss: 0.0041, NCF HR: 0.4574, GMF HR: 0.6328, NCF NDCG: 0.2134, GMF NDCG: 0.3817\n",
            "epoch: 6, NCF Loss: 0.3106, GMF Loss: 0.0015, NCF HR: 0.4721, GMF HR: 0.6344, NCF NDCG: 0.2287, GMF NDCG: 0.3860\n",
            "epoch: 7, NCF Loss: 0.2963, GMF Loss: 0.0009, NCF HR: 0.4721, GMF HR: 0.6328, NCF NDCG: 0.2242, GMF NDCG: 0.3916\n",
            "epoch: 8, NCF Loss: 0.2852, GMF Loss: 0.0007, NCF HR: 0.4787, GMF HR: 0.6311, NCF NDCG: 0.2285, GMF NDCG: 0.3931\n",
            "epoch: 9, NCF Loss: 0.2757, GMF Loss: 0.0006, NCF HR: 0.4951, GMF HR: 0.6311, NCF NDCG: 0.2407, GMF NDCG: 0.3956\n",
            "epoch: 10, NCF Loss: 0.2678, GMF Loss: 0.0005, NCF HR: 0.4902, GMF HR: 0.6311, NCF NDCG: 0.2410, GMF NDCG: 0.3972\n",
            "epoch: 11, NCF Loss: 0.2597, GMF Loss: 0.0004, NCF HR: 0.4787, GMF HR: 0.6311, NCF NDCG: 0.2420, GMF NDCG: 0.3997\n",
            "epoch: 12, NCF Loss: 0.2546, GMF Loss: 0.0003, NCF HR: 0.4885, GMF HR: 0.6328, NCF NDCG: 0.2493, GMF NDCG: 0.4010\n",
            "epoch: 13, NCF Loss: 0.2487, GMF Loss: 0.0003, NCF HR: 0.4869, GMF HR: 0.6328, NCF NDCG: 0.2510, GMF NDCG: 0.4017\n",
            "epoch: 14, NCF Loss: 0.2437, GMF Loss: 0.0003, NCF HR: 0.4951, GMF HR: 0.6328, NCF NDCG: 0.2549, GMF NDCG: 0.4015\n",
            "epoch: 15, NCF Loss: 0.2369, GMF Loss: 0.0002, NCF HR: 0.4934, GMF HR: 0.6344, NCF NDCG: 0.2539, GMF NDCG: 0.4021\n",
            "epoch: 16, NCF Loss: 0.2341, GMF Loss: 0.0002, NCF HR: 0.4754, GMF HR: 0.6344, NCF NDCG: 0.2553, GMF NDCG: 0.4034\n",
            "epoch: 17, NCF Loss: 0.2281, GMF Loss: 0.0002, NCF HR: 0.4984, GMF HR: 0.6344, NCF NDCG: 0.2593, GMF NDCG: 0.4036\n",
            "epoch: 18, NCF Loss: 0.2245, GMF Loss: 0.0002, NCF HR: 0.4934, GMF HR: 0.6344, NCF NDCG: 0.2611, GMF NDCG: 0.4033\n",
            "epoch: 19, NCF Loss: 0.2229, GMF Loss: 0.0002, NCF HR: 0.4984, GMF HR: 0.6344, NCF NDCG: 0.2565, GMF NDCG: 0.4046\n",
            "epoch: 20, NCF Loss: 0.2187, GMF Loss: 0.0002, NCF HR: 0.4918, GMF HR: 0.6344, NCF NDCG: 0.2604, GMF NDCG: 0.4051\n",
            "epoch: 21, NCF Loss: 0.2153, GMF Loss: 0.0002, NCF HR: 0.4803, GMF HR: 0.6344, NCF NDCG: 0.2572, GMF NDCG: 0.4051\n",
            "epoch: 22, NCF Loss: 0.2131, GMF Loss: 0.0001, NCF HR: 0.4934, GMF HR: 0.6344, NCF NDCG: 0.2683, GMF NDCG: 0.4052\n",
            "epoch: 23, NCF Loss: 0.2095, GMF Loss: 0.0001, NCF HR: 0.4820, GMF HR: 0.6344, NCF NDCG: 0.2581, GMF NDCG: 0.4048\n",
            "epoch: 24, NCF Loss: 0.2070, GMF Loss: 0.0001, NCF HR: 0.4951, GMF HR: 0.6344, NCF NDCG: 0.2673, GMF NDCG: 0.4058\n",
            "epoch: 25, NCF Loss: 0.2044, GMF Loss: 0.0001, NCF HR: 0.5000, GMF HR: 0.6344, NCF NDCG: 0.2735, GMF NDCG: 0.4061\n",
            "epoch: 26, NCF Loss: 0.2017, GMF Loss: 0.0001, NCF HR: 0.4967, GMF HR: 0.6344, NCF NDCG: 0.2693, GMF NDCG: 0.4070\n",
            "epoch: 27, NCF Loss: 0.2004, GMF Loss: 0.0001, NCF HR: 0.4934, GMF HR: 0.6344, NCF NDCG: 0.2691, GMF NDCG: 0.4078\n",
            "epoch: 28, NCF Loss: 0.1987, GMF Loss: 0.0001, NCF HR: 0.4984, GMF HR: 0.6361, NCF NDCG: 0.2658, GMF NDCG: 0.4086\n",
            "epoch: 29, NCF Loss: 0.1964, GMF Loss: 0.0001, NCF HR: 0.5049, GMF HR: 0.6361, NCF NDCG: 0.2725, GMF NDCG: 0.4086\n",
            "epoch: 30, NCF Loss: 0.1952, GMF Loss: 0.0001, NCF HR: 0.4885, GMF HR: 0.6361, NCF NDCG: 0.2642, GMF NDCG: 0.4100\n"
          ]
        }
      ]
    },
    {
      "cell_type": "markdown",
      "source": [
        "## NCF + GMF plot"
      ],
      "metadata": {
        "id": "Me1TaklhaXjl"
      }
    },
    {
      "cell_type": "code",
      "source": [
        "plt.figure(figsize=(20,5))\n",
        "plt.subplot(1, 3, 1)\n",
        "plt.plot(ncf_losses,label=\"NCF_loss\")\n",
        "plt.plot(gmf_losses,label=\"GMF_loss\")\n",
        "plt.xlabel(\"epoch\")\n",
        "plt.ylabel(\"Loss\")\n",
        "plt.legend()\n",
        "\n",
        "plt.subplot(1, 3, 2)\n",
        "plt.plot(ncf_hr_list,label=\"NCF_HR\")\n",
        "plt.plot(gmf_hr_list,label=\"GMF_HR\")\n",
        "plt.xlabel(\"epoch\")\n",
        "plt.ylabel(\"HR\")\n",
        "plt.legend()\n",
        "\n",
        "plt.subplot(1, 3, 3)\n",
        "plt.plot(ncf_ndcg_list,label=\"NCF_NDCG\")\n",
        "plt.plot(gmf_ndcg_list,label=\"GMF_NDCG\")\n",
        "plt.xlabel(\"epoch\")\n",
        "plt.ylabel(\"NDCG\")\n",
        "plt.legend()\n",
        "\n",
        "plt.show()"
      ],
      "metadata": {
        "colab": {
          "base_uri": "https://localhost:8080/",
          "height": 334
        },
        "id": "cDe-sa5vMurc",
        "outputId": "0b09939d-ada8-48f1-fe99-8bab74fce818"
      },
      "execution_count": 24,
      "outputs": [
        {
          "output_type": "display_data",
          "data": {
            "text/plain": [
              "<Figure size 1440x360 with 3 Axes>"
            ],
            "image/png": "[encoded data removed]"
          },
          "metadata": {
            "needs_background": "light"
          }
        }
      ]
    },
    {
      "cell_type": "markdown",
      "source": [
        "## NeuMF"
      ],
      "metadata": {
        "id": "3bReCrw3rEb1"
      }
    },
    {
      "cell_type": "code",
      "source": [
        "class NeuMF(nn.Module):\n",
        "\n",
        "    def __init__(self, NCF, GMF):\n",
        "        super(NeuMF, self).__init__()\n",
        "        \n",
        "        # initialize Class attributes\n",
        "        self.NCF = NCF\n",
        "        self.GMF = GMF\n",
        "        \n",
        "        # predict_layer input \n",
        "        self.NCF_predict_input = self.NCF.predict_layer.weight.shape[1]\n",
        "        self.GMF_predict_input = self.GMF.predict_layer.weight.shape[1]\n",
        "        self.predict_input = self.NCF_predict_input + self.GMF_predict_input\n",
        "\n",
        "        # define layers\n",
        "        self.GMF_user_embedding = self.GMF.user_embedding\n",
        "        self.GMF_item_embedding = self.GMF.item_embedding\n",
        "        self.NCF_user_embedding = self.NCF.user_embedding\n",
        "        self.NCF_item_embedding = self.NCF.item_embedding  \n",
        "        self.mlp_layers = self.NCF.mlp_layers\n",
        "        self.predict_layer = nn.Linear(self.predict_input, 1) \n",
        "        self.sigmoid = nn.Sigmoid()\n",
        "        \n",
        "        self._init_weights()\n",
        "        \n",
        "    # initialize weights\n",
        "    def _init_weights(self):\n",
        "        for m in self.modules():\n",
        "            if isinstance(m, nn.Linear):\n",
        "                nn.init.kaiming_uniform_(m.weight, a=1, nonlinearity=\"sigmoid\")\n",
        "                if m.bias is not None:\n",
        "                    m.bias.data.fill_(0.0)\n",
        "    \n",
        "    def forward(self, user, item):   \n",
        "        GMF_user_emb = self.GMF_user_embedding(user) \n",
        "        GMF_item_emb = self.GMF_item_embedding(item)\n",
        "        gmf = GMF_user_emb * GMF_item_emb\n",
        "\n",
        "        NCF_user_emb = self.NCF_user_embedding(user) \n",
        "        NCF_item_emb = self.NCF_item_embedding(item)\n",
        "        \n",
        "        NCF_input_feature = torch.cat((NCF_user_emb, NCF_item_emb), -1) \n",
        "        ncf_output = self.mlp_layers(NCF_input_feature)\n",
        "        gmf_ncf_concat = torch.cat((gmf, ncf_output), -1) \n",
        "\n",
        "        output = self.predict_layer(gmf_ncf_concat) \n",
        "        output = self.sigmoid(output)\n",
        "        return output.squeeze(-1)"
      ],
      "metadata": {
        "id": "6ntkAJorx77y"
      },
      "execution_count": 29,
      "outputs": []
    },
    {
      "cell_type": "code",
      "source": [
        "### NCF, GMF pretrained model load\n",
        "\n",
        "ncf = NCF(n_users, n_items, emb_dim, num_layers, dropout).to(device)\n",
        "ncf.load_state_dict(torch.load(os.path.join(model_dir, 'NCF.pt')))\n",
        "\n",
        "gmf = GMF(n_users, n_items, emb_dim).to(device)\n",
        "gmf.load_state_dict(torch.load(os.path.join(model_dir, 'GMF.pt')))"
      ],
      "metadata": {
        "colab": {
          "base_uri": "https://localhost:8080/"
        },
        "id": "ps_5IIkcyAX6",
        "outputId": "36e7ab75-be54-401f-e0c6-65b593c351a8"
      },
      "execution_count": 26,
      "outputs": [
        {
          "output_type": "execute_result",
          "data": {
            "text/plain": [
              "<All keys matched successfully>"
            ]
          },
          "metadata": {},
          "execution_count": 26
        }
      ]
    },
    {
      "cell_type": "code",
      "source": [
        "# NeuMF model load\n",
        "nmf = NeuMF(NCF = ncf, GMF = gmf).to(device)\n",
        "nmf_optm = optim.SGD(nmf.parameters(), lr = lr, momentum = 0.9)"
      ],
      "metadata": {
        "id": "T6LGyUTlymTJ"
      },
      "execution_count": 30,
      "outputs": []
    },
    {
      "cell_type": "markdown",
      "source": [
        "## NeuMF train"
      ],
      "metadata": {
        "id": "32gVimKk0Tbx"
      }
    },
    {
      "cell_type": "code",
      "source": [
        "nmf_losses = []\n",
        "nmf_hr_list = []\n",
        "nmf_ndcg_list = []\n",
        "\n",
        "nmf_min_loss = float(\"inf\")\n",
        "\n",
        "for epoch in tqdm(range(num_epochs)):\n",
        "\n",
        "    nmf_loss = trainer(nmf, train_dataloader, loss, nmf_optm)\n",
        "    nmf_hr, nmf_ndcg = evaluator(nmf, test_dataloader, top_k)\n",
        "\n",
        "    nmf_losses.append(nmf_loss)\n",
        "    nmf_hr_list.append(nmf_hr)\n",
        "    nmf_ndcg_list.append(nmf_ndcg)\n",
        "\n",
        "    print(f'epoch: {epoch + 1}, NeuMF Loss: {nmf_loss:.4f}, NeuMF HR: {nmf_hr:.4f}, NeuMF NDCG: {nmf_ndcg:.4f}')\n",
        "\n",
        "    if nmf_min_loss > nmf_loss:\n",
        "        nmf_min_loss = nmf_loss\n",
        "        torch.save(nmf.state_dict(), os.path.join(model_dir, 'NeuMF.pt'))"
      ],
      "metadata": {
        "colab": {
          "base_uri": "https://localhost:8080/",
          "height": 570,
          "referenced_widgets": [
            "b4530191154c4fbba4ee707646a3ea6d",
            "7527726d5b27495183db38494de48057",
            "7ccc2a64f5754209a251cbe7a618713b",
            "7f7ff8f34c174db58e5488822a6f59cb",
            "9c3d5edc1c91404a8c37b758fb31816d",
            "bd0ea09522c5412982e83827dda9f557",
            "9b2e0554f9df4f40abbb4a80326afce2",
            "06e425de45ec4b8c984b2373c5d0d9d6",
            "757c9bae9356439d97877adf3719f82c",
            "9a2d3f5e6f194fd38b927b4df1ef9d60",
            "75c9389d829c45a296906c10dc057ac2"
          ]
        },
        "id": "YHY4F1SGzBr5",
        "outputId": "25b06801-5f82-40df-b8d1-adafe67f935f"
      },
      "execution_count": 31,
      "outputs": [
        {
          "output_type": "display_data",
          "data": {
            "text/plain": [
              "  0%|          | 0/30 [00:00<?, ?it/s]"
            ],
            "application/vnd.jupyter.widget-view+json": {
              "version_major": 2,
              "version_minor": 0,
              "model_id": "b4530191154c4fbba4ee707646a3ea6d"
            }
          },
          "metadata": {}
        },
        {
          "output_type": "stream",
          "name": "stdout",
          "text": [
            "epoch: 1, NeuMF Loss: 0.2213, NeuMF HR: 0.5180, NeuMF NDCG: 0.2772\n",
            "epoch: 2, NeuMF Loss: 0.0934, NeuMF HR: 0.5525, NeuMF NDCG: 0.3072\n",
            "epoch: 3, NeuMF Loss: 0.0623, NeuMF HR: 0.5639, NeuMF NDCG: 0.3196\n",
            "epoch: 4, NeuMF Loss: 0.0472, NeuMF HR: 0.5623, NeuMF NDCG: 0.3252\n",
            "epoch: 5, NeuMF Loss: 0.0382, NeuMF HR: 0.5672, NeuMF NDCG: 0.3315\n",
            "epoch: 6, NeuMF Loss: 0.0321, NeuMF HR: 0.5656, NeuMF NDCG: 0.3347\n",
            "epoch: 7, NeuMF Loss: 0.0278, NeuMF HR: 0.5689, NeuMF NDCG: 0.3376\n",
            "epoch: 8, NeuMF Loss: 0.0244, NeuMF HR: 0.5705, NeuMF NDCG: 0.3408\n",
            "epoch: 9, NeuMF Loss: 0.0219, NeuMF HR: 0.5738, NeuMF NDCG: 0.3434\n",
            "epoch: 10, NeuMF Loss: 0.0198, NeuMF HR: 0.5738, NeuMF NDCG: 0.3455\n",
            "epoch: 11, NeuMF Loss: 0.0181, NeuMF HR: 0.5770, NeuMF NDCG: 0.3482\n",
            "epoch: 12, NeuMF Loss: 0.0167, NeuMF HR: 0.5770, NeuMF NDCG: 0.3488\n",
            "epoch: 13, NeuMF Loss: 0.0154, NeuMF HR: 0.5770, NeuMF NDCG: 0.3497\n",
            "epoch: 14, NeuMF Loss: 0.0144, NeuMF HR: 0.5770, NeuMF NDCG: 0.3503\n",
            "epoch: 15, NeuMF Loss: 0.0135, NeuMF HR: 0.5787, NeuMF NDCG: 0.3518\n",
            "epoch: 16, NeuMF Loss: 0.0127, NeuMF HR: 0.5787, NeuMF NDCG: 0.3524\n",
            "epoch: 17, NeuMF Loss: 0.0119, NeuMF HR: 0.5787, NeuMF NDCG: 0.3523\n",
            "epoch: 18, NeuMF Loss: 0.0113, NeuMF HR: 0.5836, NeuMF NDCG: 0.3541\n",
            "epoch: 19, NeuMF Loss: 0.0107, NeuMF HR: 0.5836, NeuMF NDCG: 0.3543\n",
            "epoch: 20, NeuMF Loss: 0.0102, NeuMF HR: 0.5852, NeuMF NDCG: 0.3553\n",
            "epoch: 21, NeuMF Loss: 0.0098, NeuMF HR: 0.5852, NeuMF NDCG: 0.3567\n",
            "epoch: 22, NeuMF Loss: 0.0093, NeuMF HR: 0.5869, NeuMF NDCG: 0.3571\n",
            "epoch: 23, NeuMF Loss: 0.0090, NeuMF HR: 0.5885, NeuMF NDCG: 0.3583\n",
            "epoch: 24, NeuMF Loss: 0.0086, NeuMF HR: 0.5885, NeuMF NDCG: 0.3590\n",
            "epoch: 25, NeuMF Loss: 0.0082, NeuMF HR: 0.5885, NeuMF NDCG: 0.3585\n",
            "epoch: 26, NeuMF Loss: 0.0080, NeuMF HR: 0.5885, NeuMF NDCG: 0.3587\n",
            "epoch: 27, NeuMF Loss: 0.0077, NeuMF HR: 0.5885, NeuMF NDCG: 0.3587\n",
            "epoch: 28, NeuMF Loss: 0.0074, NeuMF HR: 0.5885, NeuMF NDCG: 0.3588\n",
            "epoch: 29, NeuMF Loss: 0.0072, NeuMF HR: 0.5885, NeuMF NDCG: 0.3588\n",
            "epoch: 30, NeuMF Loss: 0.0069, NeuMF HR: 0.5885, NeuMF NDCG: 0.3595\n"
          ]
        }
      ]
    },
    {
      "cell_type": "markdown",
      "source": [
        "## NeuMF plot"
      ],
      "metadata": {
        "id": "e5UXohl10WeZ"
      }
    },
    {
      "cell_type": "code",
      "source": [
        "plt.figure(figsize=(20,5))\n",
        "plt.subplot(1, 3, 1)\n",
        "plt.plot(ncf_losses,label=\"NCF_loss\")\n",
        "plt.plot(gmf_losses,label=\"GMF_loss\")\n",
        "plt.plot(nmf_losses,label=\"NeuMF_loss\")\n",
        "plt.xlabel(\"epoch\")\n",
        "plt.ylabel(\"Loss\")\n",
        "plt.legend()\n",
        "\n",
        "plt.subplot(1, 3, 2)\n",
        "plt.plot(ncf_hr_list,label=\"NCF_HR\")\n",
        "plt.plot(gmf_hr_list,label=\"GMF_HR\")\n",
        "plt.plot(nmf_hr_list,label=\"NeuMF_HR\")\n",
        "plt.xlabel(\"epoch\")\n",
        "plt.ylabel(\"HR\")\n",
        "plt.legend()\n",
        "\n",
        "plt.subplot(1, 3, 3)\n",
        "plt.plot(ncf_ndcg_list,label=\"NCF_NDCG\")\n",
        "plt.plot(gmf_ndcg_list,label=\"GMF_NDCG\")\n",
        "plt.plot(nmf_ndcg_list,label=\"NeuMF_NDCG\")\n",
        "plt.xlabel(\"epoch\")\n",
        "plt.ylabel(\"NDCG\")\n",
        "plt.legend()\n",
        "\n",
        "plt.show()"
      ],
      "metadata": {
        "colab": {
          "base_uri": "https://localhost:8080/",
          "height": 334
        },
        "id": "xwhqwohBzldK",
        "outputId": "53632f9d-2d46-412d-cbd3-044420ac837d"
      },
      "execution_count": 32,
      "outputs": [
        {
          "output_type": "display_data",
          "data": {
            "text/plain": [
              "<Figure size 1440x360 with 3 Axes>"
            ],
            "image/png": "[encoded data removed]"
          },
          "metadata": {
            "needs_background": "light"
          }
        }
      ]
    },
    {
      "cell_type": "markdown",
      "source": [
        "## evaluation"
      ],
      "metadata": {
        "id": "2whN-KhO--wO"
      }
    },
    {
      "cell_type": "code",
      "source": [
        "ncf = NCF(n_users, n_items, emb_dim, num_layers, dropout).to(device)\n",
        "ncf.load_state_dict(torch.load(os.path.join(model_dir, 'NCF.pt')))\n",
        "\n",
        "gmf = GMF(n_users, n_items, emb_dim).to(device)\n",
        "gmf.load_state_dict(torch.load(os.path.join(model_dir, 'GMF.pt')))\n",
        "\n",
        "nmf = NeuMF(NCF = ncf, GMF = gmf).to(device)\n",
        "nmf.load_state_dict(torch.load(os.path.join(model_dir, 'NeuMF.pt')))\n",
        "\n",
        "ncf_hr, ncf_ndcg = evaluator(ncf, test_dataloader, top_k)\n",
        "gmf_hr, gmf_ndcg = evaluator(gmf, test_dataloader, top_k)\n",
        "nmf_hr, nmf_ndcg = evaluator(nmf, test_dataloader, top_k)\n",
        "\n",
        "print(f\"NeuMF HR: {nmf_hr:.4f}, NeuMF NDCG: {nmf_ndcg:.4f}, \\n NCF HR: {ncf_hr:.4f}, NCF NDCG: {ncf_ndcg:.4f} \\n GMF HR: {gmf_hr:.4f}, GMF NDCG: {gmf_ndcg:.4f}\")"
      ],
      "metadata": {
        "colab": {
          "base_uri": "https://localhost:8080/"
        },
        "id": "npqzZUeo0jz4",
        "outputId": "38d7a6e0-c4dc-4eee-d5b4-dd5902f4ba50"
      },
      "execution_count": 33,
      "outputs": [
        {
          "output_type": "stream",
          "name": "stdout",
          "text": [
            "NeuMF HR: 0.5885, NeuMF NDCG: 0.3595, \n",
            " NCF HR: 0.3230, NCF NDCG: 0.1000 \n",
            " GMF HR: 0.2934, GMF NDCG: 0.0902\n"
          ]
        }
      ]
    },
    {
      "cell_type": "code",
      "source": [
        ""
      ],
      "metadata": {
        "id": "6f28Mw40-opX"
      },
      "execution_count": null,
      "outputs": []
    }
  ]
}