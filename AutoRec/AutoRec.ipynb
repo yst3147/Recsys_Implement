{
  "nbformat": 4,
  "nbformat_minor": 0,
  "metadata": {
    "colab": {
      "name": "AutoRec.ipynb",
      "provenance": [],
      "collapsed_sections": [],
      "machine_shape": "hm"
    },
    "kernelspec": {
      "name": "python3",
      "display_name": "Python 3"
    },
    "language_info": {
      "name": "python"
    },
    "accelerator": "GPU"
  },
  "cells": [
    {
      "cell_type": "markdown",
      "source": [
        "# The MovieLens Dataset"
      ],
      "metadata": {
        "id": "0imQjExusreI"
      }
    },
    {
      "cell_type": "markdown",
      "source": [
        "## Getting the Data"
      ],
      "metadata": {
        "id": "wCGdsEGPsurw"
      }
    },
    {
      "cell_type": "code",
      "source": [
        "import os\n",
        "import pandas as pd\n",
        "import matplotlib.pyplot as plt\n",
        "import numpy as np\n",
        "import torch\n",
        "import torch.nn as nn\n",
        "import torch.optim as optim\n",
        "from torch.utils.data import DataLoader, Dataset\n",
        "\n",
        "from sklearn.model_selection import train_test_split\n",
        "from sklearn.preprocessing import LabelEncoder"
      ],
      "metadata": {
        "id": "crE_yA_9s9Dp"
      },
      "execution_count": 1,
      "outputs": []
    },
    {
      "cell_type": "code",
      "source": [
        "from google.colab import drive\n",
        "drive.mount('/content/drive')"
      ],
      "metadata": {
        "colab": {
          "base_uri": "https://localhost:8080/"
        },
        "id": "WA1VYX1DtNXj",
        "outputId": "a5d1c7c6-30e3-4dc8-e570-baf514f9fb7f"
      },
      "execution_count": 2,
      "outputs": [
        {
          "output_type": "stream",
          "name": "stdout",
          "text": [
            "Mounted at /content/drive\n"
          ]
        }
      ]
    },
    {
      "cell_type": "code",
      "execution_count": null,
      "metadata": {
        "id": "yoWtDvsFrsJq"
      },
      "outputs": [],
      "source": [
        "# !wget http://files.grouplens.org/datasets/movielens/ml-latest-small.zip"
      ]
    },
    {
      "cell_type": "code",
      "source": [
        "# !unzip ml-latest-small.zip -d /content/drive/MyDrive/Boostcamp_AI_Tech/Recsys_Implement/AutoRec"
      ],
      "metadata": {
        "id": "4AtlofcEtEdz"
      },
      "execution_count": null,
      "outputs": []
    },
    {
      "cell_type": "code",
      "source": [
        "def read_data_ml100k():\n",
        "    data_dir = '/content/drive/MyDrive/Boostcamp_AI_Tech/Recsys_Implement/AutoRec/ml-latest-small'\n",
        "    names = ['user_id', 'item_id', 'rating', 'timestamp']\n",
        "    data = pd.read_csv(os.path.join(data_dir, 'ratings.csv'), names = names, header=0)\n",
        "    num_users = data.user_id.unique().shape[0]\n",
        "    num_items = data.item_id.unique().shape[0]\n",
        "    return data, num_users, num_items"
      ],
      "metadata": {
        "id": "5aKNCL9GtgSw"
      },
      "execution_count": 3,
      "outputs": []
    },
    {
      "cell_type": "markdown",
      "source": [
        "## Statistics of the Dataset"
      ],
      "metadata": {
        "id": "pg-6pPJru-Qt"
      }
    },
    {
      "cell_type": "code",
      "source": [
        "data, num_users, num_items = read_data_ml100k()\n",
        "sparsity = 1 - len(data) / (num_users * num_items)\n",
        "print(f'number of users: {num_users}, number of items: {num_items}')\n",
        "print(f'matrix sparsity: {sparsity:f}')\n",
        "print(data.head())"
      ],
      "metadata": {
        "colab": {
          "base_uri": "https://localhost:8080/"
        },
        "id": "18TDJUZKuKiW",
        "outputId": "2d0d5349-eb7c-4037-ba83-fb09984b1ce8"
      },
      "execution_count": 4,
      "outputs": [
        {
          "output_type": "stream",
          "name": "stdout",
          "text": [
            "number of users: 610, number of items: 9724\n",
            "matrix sparsity: 0.983000\n",
            "   user_id  item_id  rating  timestamp\n",
            "0        1        1     4.0  964982703\n",
            "1        1        3     4.0  964981247\n",
            "2        1        6     4.0  964982224\n",
            "3        1       47     5.0  964983815\n",
            "4        1       50     5.0  964982931\n"
          ]
        }
      ]
    },
    {
      "cell_type": "code",
      "source": [
        "plt.hist(data['rating'], bins=5, ec='black')\n",
        "plt.xlabel('Rating')\n",
        "plt.ylabel('Count')\n",
        "plt.title('Distribution of Ratings in MovieLens 100K')\n",
        "plt.show()"
      ],
      "metadata": {
        "colab": {
          "base_uri": "https://localhost:8080/",
          "height": 295
        },
        "id": "ZBOcxp3TuMET",
        "outputId": "a970574b-ff10-4e68-d8bc-2ea27a4ef90c"
      },
      "execution_count": 5,
      "outputs": [
        {
          "output_type": "display_data",
          "data": {
            "image/png": "[encoded data removed]",
            "text/plain": [
              "<Figure size 432x288 with 1 Axes>"
            ]
          },
          "metadata": {
            "needs_background": "light"
          }
        }
      ]
    },
    {
      "cell_type": "markdown",
      "source": [
        "## Label Encoding"
      ],
      "metadata": {
        "id": "kSVEDkhRAC2l"
      }
    },
    {
      "cell_type": "code",
      "source": [
        "user_le = LabelEncoder()\n",
        "item_le = LabelEncoder()\n",
        "data['user_id_idx'] = user_le.fit_transform(data['user_id'].values)\n",
        "data['item_id_idx'] = item_le.fit_transform(data['item_id'].values)"
      ],
      "metadata": {
        "id": "F41LX-_GAB1O"
      },
      "execution_count": 6,
      "outputs": []
    },
    {
      "cell_type": "markdown",
      "source": [
        "## Loading the data"
      ],
      "metadata": {
        "id": "OzBvdP4J-9B9"
      }
    },
    {
      "cell_type": "code",
      "source": [
        "class MovieLensDataset(Dataset):\n",
        "    def __init__(self, df, train_size=0.9, train=False):\n",
        "        self.df = df\n",
        "        self.train = train\n",
        "        self.train_size = train_size\n",
        "        self.test_size = 1 - self.train_size \n",
        "\n",
        "        self.num_items = len(self.df['item_id_idx'].unique())\n",
        "        self.num_users = len(self.df['user_id_idx'].unique())\n",
        "\n",
        "        self.train_df, self.test_df = train_test_split(self.df, test_size=self.test_size, train_size=self.train_size, stratify = self.df['user_id_idx'].values, random_state=42)\n",
        "\n",
        "        if self.train == True:\n",
        "            self.df = self.train_df\n",
        "        else:\n",
        "            self.df = self.test_df\n",
        "\n",
        "        self.users = torch.tensor(self.df['user_id_idx'].values)\n",
        "        self.items = torch.tensor(self.df['item_id_idx'].values)\n",
        "        self.ratings = torch.tensor(self.df['rating'].values)\n",
        "        \n",
        "        self.inter_mat = self.make_inter_mat()\n",
        "    \n",
        "    def make_inter_mat(self):\n",
        "        inter_mat = np.zeros((self.num_items, self.num_users))\n",
        "        for user, item, rating in zip(self.users, self.items, self.ratings):\n",
        "            inter_mat[item][user] = rating\n",
        "\n",
        "        return inter_mat\n",
        "\n",
        "    def __len__(self):\n",
        "        return len(self.inter_mat)\n",
        "\n",
        "    def __getitem__(self, index):\n",
        "        inter_mat = torch.tensor(self.inter_mat[index]).float()\n",
        "\n",
        "        return inter_mat"
      ],
      "metadata": {
        "id": "_U_rQGQr6bac"
      },
      "execution_count": 7,
      "outputs": []
    },
    {
      "cell_type": "markdown",
      "source": [
        "# The AutoRec Model"
      ],
      "metadata": {
        "id": "8Uvcja0PabxM"
      }
    },
    {
      "cell_type": "code",
      "source": [
        "class AutoRec(nn.Module):\n",
        "    def __init__(self, num_hidden, num_users, dropout=0.05):\n",
        "        super(AutoRec, self).__init__()\n",
        "        self.encoder = nn.Linear(num_users, num_hidden)\n",
        "        self.sigmoid = nn.Sigmoid()\n",
        "        self.decoder = nn.Linear(num_hidden, num_users)\n",
        "        self.dropout = nn.Dropout(dropout)\n",
        "\n",
        "    def forward(self, mat):\n",
        "        hidden = self.dropout(self.sigmoid(self.encoder(mat)))\n",
        "        pred = self.decoder(hidden)\n",
        "        \n",
        "        return pred"
      ],
      "metadata": {
        "id": "bwVDYRK938DZ"
      },
      "execution_count": 8,
      "outputs": []
    },
    {
      "cell_type": "markdown",
      "source": [
        "## Training and Evaluating the Model"
      ],
      "metadata": {
        "id": "HmKzUNVYl2B4"
      }
    },
    {
      "cell_type": "code",
      "source": [
        "def trainer(model, train_iter, loss, optm, device):\n",
        "    model.train() # to train mode\n",
        "    loss_sum = 0\n",
        "\n",
        "    for inter_mat in train_iter:\n",
        "        inter_mat = inter_mat.to(device)    \n",
        "\n",
        "        preds = model(inter_mat)\n",
        "        loss_out = loss(preds, inter_mat)\n",
        "\n",
        "        # Update\n",
        "        optm.zero_grad()      # reset gradient \n",
        "        loss_out.backward()      # backpropagate\n",
        "        optm.step()      # optimizer update\n",
        "        \n",
        "        loss_sum += loss_out.item()\n",
        "    \n",
        "    loss_avg = loss_sum / len(train_iter)\n",
        "\n",
        "    return loss_avg"
      ],
      "metadata": {
        "id": "6-vWFsDZl7GZ"
      },
      "execution_count": 9,
      "outputs": []
    },
    {
      "cell_type": "code",
      "source": [
        "def evaluator(model, test_iter, loss, device):\n",
        "    with torch.no_grad():\n",
        "        model.eval()\n",
        "        loss_sum = 0\n",
        "\n",
        "        for inter_mat in test_iter:\n",
        "            inter_mat = inter_mat.to(device) \n",
        "\n",
        "            preds = model(inter_mat)\n",
        "            loss_out = loss(preds, inter_mat)            \n",
        "\n",
        "            loss_sum += loss_out.item()\n",
        "\n",
        "    loss_avg = loss_sum / len(test_iter)\n",
        "\n",
        "    return loss_avg"
      ],
      "metadata": {
        "id": "uBdquVPhhJlR"
      },
      "execution_count": 10,
      "outputs": []
    },
    {
      "cell_type": "code",
      "source": [
        "device = torch.device('cuda:0' if torch.cuda.is_available() else 'cpu')\n",
        "\n",
        "num_epochs = 25\n",
        "lr = 0.002\n",
        "batch_size = 256\n",
        "\n",
        "num_users = data.user_id_idx.max() + 1\n",
        "num_hidden = 500"
      ],
      "metadata": {
        "id": "rDzQu3sUCYfS"
      },
      "execution_count": 11,
      "outputs": []
    },
    {
      "cell_type": "code",
      "source": [
        "train_dataset = MovieLensDataset(df=data, train=True)\n",
        "test_dataset = MovieLensDataset(df=data, train=False)\n",
        "\n",
        "train_dataloader = DataLoader(dataset=train_dataset, batch_size=batch_size, shuffle=True) \n",
        "test_dataloader = DataLoader(dataset=test_dataset, batch_size=batch_size, shuffle=False)"
      ],
      "metadata": {
        "id": "duxvo9hYmRB2"
      },
      "execution_count": 12,
      "outputs": []
    },
    {
      "cell_type": "code",
      "source": [
        "model = AutoRec(num_hidden, num_users).to(device)\n",
        "loss = nn.MSELoss()\n",
        "optm = optim.Adam(model.parameters(),lr=lr)"
      ],
      "metadata": {
        "id": "Dzp_nOkewbZV"
      },
      "execution_count": 13,
      "outputs": []
    },
    {
      "cell_type": "code",
      "source": [
        "train_losses = []\n",
        "test_losses = []\n",
        "\n",
        "for epoch in range(num_epochs):\n",
        "\n",
        "    train_loss = trainer(model, train_dataloader, loss, optm, device)\n",
        "    test_loss = evaluator(model, test_dataloader, loss, device)\n",
        "\n",
        "    train_losses.append(train_loss)\n",
        "    test_losses.append(test_loss)\n",
        "\n",
        "    print(f'epoch: {epoch}, train Loss: {train_loss:.4f}, test Loss: {test_loss:.4f}')\n",
        "\n",
        "plt.figure(figsize=(10,5))\n",
        "plt.plot(train_losses,label=\"train_loss\")\n",
        "plt.plot(test_losses,label=\"test_loss\")\n",
        "plt.xlabel(\"epoch\")\n",
        "plt.ylabel(\"Loss\")\n",
        "plt.legend()\n",
        "plt.show()"
      ],
      "metadata": {
        "colab": {
          "base_uri": "https://localhost:8080/",
          "height": 768
        },
        "id": "ZtzeK531ML_j",
        "outputId": "46e0157d-3697-4ba6-e31f-bf8a44a8d81d"
      },
      "execution_count": 14,
      "outputs": [
        {
          "output_type": "stream",
          "name": "stdout",
          "text": [
            "epoch: 0, train Loss: 0.1876, test Loss: 0.0229\n",
            "epoch: 1, train Loss: 0.1378, test Loss: 0.0193\n",
            "epoch: 2, train Loss: 0.1169, test Loss: 0.0164\n",
            "epoch: 3, train Loss: 0.1008, test Loss: 0.0139\n",
            "epoch: 4, train Loss: 0.0887, test Loss: 0.0123\n",
            "epoch: 5, train Loss: 0.0798, test Loss: 0.0110\n",
            "epoch: 6, train Loss: 0.0731, test Loss: 0.0100\n",
            "epoch: 7, train Loss: 0.0679, test Loss: 0.0093\n",
            "epoch: 8, train Loss: 0.0639, test Loss: 0.0084\n",
            "epoch: 9, train Loss: 0.0603, test Loss: 0.0081\n",
            "epoch: 10, train Loss: 0.0576, test Loss: 0.0079\n",
            "epoch: 11, train Loss: 0.0553, test Loss: 0.0076\n",
            "epoch: 12, train Loss: 0.0534, test Loss: 0.0072\n",
            "epoch: 13, train Loss: 0.0515, test Loss: 0.0070\n",
            "epoch: 14, train Loss: 0.0501, test Loss: 0.0068\n",
            "epoch: 15, train Loss: 0.0486, test Loss: 0.0068\n",
            "epoch: 16, train Loss: 0.0474, test Loss: 0.0067\n",
            "epoch: 17, train Loss: 0.0461, test Loss: 0.0064\n",
            "epoch: 18, train Loss: 0.0450, test Loss: 0.0064\n",
            "epoch: 19, train Loss: 0.0440, test Loss: 0.0060\n",
            "epoch: 20, train Loss: 0.0431, test Loss: 0.0061\n",
            "epoch: 21, train Loss: 0.0423, test Loss: 0.0060\n",
            "epoch: 22, train Loss: 0.0414, test Loss: 0.0057\n",
            "epoch: 23, train Loss: 0.0407, test Loss: 0.0056\n",
            "epoch: 24, train Loss: 0.0398, test Loss: 0.0056\n"
          ]
        },
        {
          "output_type": "display_data",
          "data": {
            "image/png": "[encoded data removed]",
            "text/plain": [
              "<Figure size 720x360 with 1 Axes>"
            ]
          },
          "metadata": {
            "needs_background": "light"
          }
        }
      ]
    },
    {
      "cell_type": "code",
      "source": [
        ""
      ],
      "metadata": {
        "id": "FJw4Y6BWfsnf"
      },
      "execution_count": null,
      "outputs": []
    }
  ]
}