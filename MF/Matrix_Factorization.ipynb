{
  "nbformat": 4,
  "nbformat_minor": 0,
  "metadata": {
    "colab": {
      "name": "Matrix_Factorization.ipynb",
      "provenance": [],
      "collapsed_sections": [],
      "machine_shape": "hm"
    },
    "kernelspec": {
      "name": "python3",
      "display_name": "Python 3"
    },
    "language_info": {
      "name": "python"
    },
    "accelerator": "GPU"
  },
  "cells": [
    {
      "cell_type": "markdown",
      "source": [
        "# The MovieLens Dataset"
      ],
      "metadata": {
        "id": "0imQjExusreI"
      }
    },
    {
      "cell_type": "markdown",
      "source": [
        "## Getting the Data"
      ],
      "metadata": {
        "id": "wCGdsEGPsurw"
      }
    },
    {
      "cell_type": "code",
      "source": [
        "import os\n",
        "import pandas as pd\n",
        "import matplotlib.pyplot as plt\n",
        "import numpy as np\n",
        "import torch\n",
        "import torch.nn as nn\n",
        "import torch.optim as optim\n",
        "from torch.utils.data import DataLoader, Dataset\n",
        "\n",
        "from sklearn.model_selection import train_test_split\n",
        "from sklearn.preprocessing import LabelEncoder"
      ],
      "metadata": {
        "id": "crE_yA_9s9Dp"
      },
      "execution_count": 1,
      "outputs": []
    },
    {
      "cell_type": "code",
      "source": [
        "from google.colab import drive\n",
        "drive.mount('/content/drive')"
      ],
      "metadata": {
        "colab": {
          "base_uri": "https://localhost:8080/"
        },
        "id": "WA1VYX1DtNXj",
        "outputId": "66e32f1b-1316-4eca-c56c-669ce434409f"
      },
      "execution_count": 2,
      "outputs": [
        {
          "output_type": "stream",
          "name": "stdout",
          "text": [
            "Mounted at /content/drive\n"
          ]
        }
      ]
    },
    {
      "cell_type": "code",
      "execution_count": null,
      "metadata": {
        "colab": {
          "base_uri": "https://localhost:8080/"
        },
        "id": "yoWtDvsFrsJq",
        "outputId": "98868266-6744-441c-a77e-1ff29d6f82c4"
      },
      "outputs": [
        {
          "output_type": "stream",
          "name": "stdout",
          "text": [
            "--2022-02-07 15:01:30--  http://files.grouplens.org/datasets/movielens/ml-latest-small.zip\n",
            "Resolving files.grouplens.org (files.grouplens.org)... 128.101.65.152\n",
            "Connecting to files.grouplens.org (files.grouplens.org)|128.101.65.152|:80... connected.\n",
            "HTTP request sent, awaiting response... 200 OK\n",
            "Length: 978202 (955K) [application/zip]\n",
            "Saving to: ‘ml-latest-small.zip’\n",
            "\n",
            "ml-latest-small.zip 100%[===================>] 955.28K  3.08MB/s    in 0.3s    \n",
            "\n",
            "2022-02-07 15:01:31 (3.08 MB/s) - ‘ml-latest-small.zip’ saved [978202/978202]\n",
            "\n"
          ]
        }
      ],
      "source": [
        "# !wget http://files.grouplens.org/datasets/movielens/ml-latest-small.zip"
      ]
    },
    {
      "cell_type": "code",
      "source": [
        "# !unzip ml-latest-small.zip -d /content/drive/MyDrive/Boostcamp_AI_Tech/Recsys_Implement/Matrix_Factorization"
      ],
      "metadata": {
        "colab": {
          "base_uri": "https://localhost:8080/"
        },
        "id": "4AtlofcEtEdz",
        "outputId": "e3b7ecef-002f-4eeb-c818-1965f1c6aa2d"
      },
      "execution_count": null,
      "outputs": [
        {
          "output_type": "stream",
          "name": "stdout",
          "text": [
            "Archive:  ml-latest-small.zip\n",
            "   creating: /content/drive/MyDrive/Boostcamp_AI_Tech/Recsys_Implement/Matrix_Factorization/ml-latest-small/\n",
            "  inflating: /content/drive/MyDrive/Boostcamp_AI_Tech/Recsys_Implement/Matrix_Factorization/ml-latest-small/links.csv  \n",
            "  inflating: /content/drive/MyDrive/Boostcamp_AI_Tech/Recsys_Implement/Matrix_Factorization/ml-latest-small/tags.csv  \n",
            "  inflating: /content/drive/MyDrive/Boostcamp_AI_Tech/Recsys_Implement/Matrix_Factorization/ml-latest-small/ratings.csv  \n",
            "  inflating: /content/drive/MyDrive/Boostcamp_AI_Tech/Recsys_Implement/Matrix_Factorization/ml-latest-small/README.txt  \n",
            "  inflating: /content/drive/MyDrive/Boostcamp_AI_Tech/Recsys_Implement/Matrix_Factorization/ml-latest-small/movies.csv  \n"
          ]
        }
      ]
    },
    {
      "cell_type": "code",
      "source": [
        "def read_data_ml100k():\n",
        "    data_dir = '/content/drive/MyDrive/Boostcamp_AI_Tech/Recsys_Implement/Matrix_Factorization/ml-latest-small'\n",
        "    names = ['user_id', 'item_id', 'rating', 'timestamp']\n",
        "    data = pd.read_csv(os.path.join(data_dir, 'ratings.csv'), names = names, header=0)\n",
        "    num_users = data.user_id.unique().shape[0]\n",
        "    num_items = data.item_id.unique().shape[0]\n",
        "    return data, num_users, num_items"
      ],
      "metadata": {
        "id": "5aKNCL9GtgSw"
      },
      "execution_count": 3,
      "outputs": []
    },
    {
      "cell_type": "markdown",
      "source": [
        "## Statistics of the Dataset"
      ],
      "metadata": {
        "id": "pg-6pPJru-Qt"
      }
    },
    {
      "cell_type": "code",
      "source": [
        "data, num_users, num_items = read_data_ml100k()\n",
        "sparsity = 1 - len(data) / (num_users * num_items)\n",
        "print(f'number of users: {num_users}, number of items: {num_items}')\n",
        "print(f'matrix sparsity: {sparsity:f}')\n",
        "print(data.head())"
      ],
      "metadata": {
        "colab": {
          "base_uri": "https://localhost:8080/"
        },
        "id": "18TDJUZKuKiW",
        "outputId": "3404ad1a-9ba2-45d1-a542-3eae8c5b1872"
      },
      "execution_count": 4,
      "outputs": [
        {
          "output_type": "stream",
          "name": "stdout",
          "text": [
            "number of users: 610, number of items: 9724\n",
            "matrix sparsity: 0.983000\n",
            "   user_id  item_id  rating  timestamp\n",
            "0        1        1     4.0  964982703\n",
            "1        1        3     4.0  964981247\n",
            "2        1        6     4.0  964982224\n",
            "3        1       47     5.0  964983815\n",
            "4        1       50     5.0  964982931\n"
          ]
        }
      ]
    },
    {
      "cell_type": "code",
      "source": [
        "plt.hist(data['rating'], bins=5, ec='black')\n",
        "plt.xlabel('Rating')\n",
        "plt.ylabel('Count')\n",
        "plt.title('Distribution of Ratings in MovieLens 100K')\n",
        "plt.show()"
      ],
      "metadata": {
        "colab": {
          "base_uri": "https://localhost:8080/",
          "height": 295
        },
        "id": "ZBOcxp3TuMET",
        "outputId": "ca2e97a0-e43c-40d5-fa03-ce88c8528bf2"
      },
      "execution_count": 5,
      "outputs": [
        {
          "output_type": "display_data",
          "data": {
            "image/png": "[encoded data removed]",
            "text/plain": [
              "<Figure size 432x288 with 1 Axes>"
            ]
          },
          "metadata": {
            "needs_background": "light"
          }
        }
      ]
    },
    {
      "cell_type": "markdown",
      "source": [
        "## Label Encoding"
      ],
      "metadata": {
        "id": "kSVEDkhRAC2l"
      }
    },
    {
      "cell_type": "code",
      "source": [
        "user_le = LabelEncoder()\n",
        "item_le = LabelEncoder()\n",
        "data['user_id_idx'] = user_le.fit_transform(data['user_id'].values)\n",
        "data['item_id_idx'] = item_le.fit_transform(data['item_id'].values)"
      ],
      "metadata": {
        "id": "F41LX-_GAB1O"
      },
      "execution_count": 6,
      "outputs": []
    },
    {
      "cell_type": "markdown",
      "source": [
        "## Mu"
      ],
      "metadata": {
        "id": "gPElEHqYFdke"
      }
    },
    {
      "cell_type": "code",
      "source": [
        "mu = torch.tensor(data['rating'].mean())"
      ],
      "metadata": {
        "id": "Rqhla1WuFgxe"
      },
      "execution_count": 7,
      "outputs": []
    },
    {
      "cell_type": "markdown",
      "source": [
        "## Loading the data"
      ],
      "metadata": {
        "id": "OzBvdP4J-9B9"
      }
    },
    {
      "cell_type": "code",
      "source": [
        "class MovieLensDataset(Dataset):\n",
        "    def __init__(self, df, train_size=0.9, train=False):\n",
        "        self.df = df\n",
        "        self.train = train\n",
        "        self.train_size = train_size\n",
        "        self.test_size = 1 - self.train_size \n",
        "\n",
        "\n",
        "        self.train_df, self.test_df = train_test_split(self.df, test_size=self.test_size, train_size=self.train_size, stratify = self.df['user_id_idx'].values, random_state=42)\n",
        "\n",
        "        if self.train == True:\n",
        "            self.df = self.train_df\n",
        "        else:\n",
        "            self.df = self.test_df\n",
        "\n",
        "        self.users = torch.tensor(self.df['user_id_idx'].values)\n",
        "        self.items = torch.tensor(self.df['item_id_idx'].values)\n",
        "        self.ratings = torch.tensor(self.df['rating'].values)\n",
        "\n",
        "    def __len__(self):\n",
        "        return len(self.df)\n",
        "\n",
        "    def __getitem__(self, index):\n",
        "        users = self.users[index]\n",
        "        items = self.items[index]\n",
        "        ratings = self.ratings[index]\n",
        "        return (users, items, ratings.float())"
      ],
      "metadata": {
        "id": "_U_rQGQr6bac"
      },
      "execution_count": 8,
      "outputs": []
    },
    {
      "cell_type": "markdown",
      "source": [
        "# The Matrix Factorization Model"
      ],
      "metadata": {
        "id": "8Uvcja0PabxM"
      }
    },
    {
      "cell_type": "code",
      "source": [
        "class MF(nn.Module):\n",
        "    def __init__(self, num_factors, num_users, num_items, mu):\n",
        "        super(MF, self).__init__()\n",
        "        self.P = nn.Embedding(num_users, num_factors)\n",
        "        self.Q = nn.Embedding(num_items, num_factors)\n",
        "        self.user_bias = nn.Embedding(num_users, 1)\n",
        "        self.item_bias = nn.Embedding(num_items, 1)\n",
        "        self.mu = mu\n",
        "\n",
        "    def forward(self, user_id, item_id):\n",
        "        P_u = self.P(user_id)\n",
        "        Q_i = self.Q(item_id)\n",
        "        b_u = self.user_bias(user_id)\n",
        "        b_i = self.item_bias(item_id)\n",
        "        mu = self.mu\n",
        "        \n",
        "        outputs = torch.sum((P_u * Q_i), axis = 1) + torch.squeeze(b_u) + torch.squeeze(b_i) + mu\n",
        "        return outputs.flatten()"
      ],
      "metadata": {
        "id": "bwVDYRK938DZ"
      },
      "execution_count": 9,
      "outputs": []
    },
    {
      "cell_type": "markdown",
      "source": [
        "## Training and Evaluating the Model"
      ],
      "metadata": {
        "id": "HmKzUNVYl2B4"
      }
    },
    {
      "cell_type": "code",
      "source": [
        "def trainer(model, train_iter, loss, optm, device):\n",
        "    model.train() # to train mode\n",
        "    loss_sum = 0\n",
        "\n",
        "    for i, (users, items, ratings) in enumerate(train_iter):\n",
        "        users = users.to(device)\n",
        "        items = items.to(device)\n",
        "        ratings = ratings.to(device)      \n",
        "\n",
        "        preds = model(users, items)\n",
        "        loss_out = loss(preds, ratings)\n",
        "\n",
        "        # Update\n",
        "        optm.zero_grad()      # reset gradient \n",
        "        loss_out.backward()      # backpropagate\n",
        "        optm.step()      # optimizer update\n",
        "        \n",
        "        loss_sum += loss_out.item()\n",
        "    \n",
        "    loss_avg = loss_sum / len(train_iter)\n",
        "\n",
        "    return loss_avg"
      ],
      "metadata": {
        "id": "6-vWFsDZl7GZ"
      },
      "execution_count": 10,
      "outputs": []
    },
    {
      "cell_type": "code",
      "source": [
        "def evaluator(model, test_iter, device):\n",
        "    with torch.no_grad():\n",
        "        model.eval()\n",
        "        loss = nn.MSELoss()\n",
        "        loss_sum = 0\n",
        "\n",
        "        for idx, (users, items, ratings) in enumerate(test_iter):\n",
        "            users = users.to(device)\n",
        "            items = items.to(device)\n",
        "            ratings = ratings.to(device)\n",
        "            \n",
        "            preds = model(users, items)\n",
        "\n",
        "            loss_out = loss(preds, ratings)            \n",
        "\n",
        "            loss_sum += loss_out.item()\n",
        "\n",
        "        loss_avg = loss_sum / len(test_iter)\n",
        "\n",
        "    return loss_avg"
      ],
      "metadata": {
        "id": "uBdquVPhhJlR"
      },
      "execution_count": 11,
      "outputs": []
    },
    {
      "cell_type": "code",
      "source": [
        "device = torch.device('cuda:0' if torch.cuda.is_available() else 'cpu')\n",
        "\n",
        "num_epochs = 30\n",
        "lr = 0.005\n",
        "mf_factor = 100\n",
        "batch_size = 128\n",
        "\n",
        "num_users = data.user_id_idx.max() + 1\n",
        "num_items = data.item_id_idx.max() + 1"
      ],
      "metadata": {
        "id": "rDzQu3sUCYfS"
      },
      "execution_count": 12,
      "outputs": []
    },
    {
      "cell_type": "code",
      "source": [
        "train_dataset = MovieLensDataset(df=data, train=True)\n",
        "test_dataset = MovieLensDataset(df=data, train=False)\n",
        "\n",
        "train_dataloader = DataLoader(dataset=train_dataset, batch_size=batch_size, shuffle=True) \n",
        "test_dataloader = DataLoader(dataset=test_dataset, batch_size=batch_size, shuffle=False)"
      ],
      "metadata": {
        "id": "duxvo9hYmRB2"
      },
      "execution_count": 13,
      "outputs": []
    },
    {
      "cell_type": "code",
      "source": [
        "model = MF(mf_factor, num_users, num_items, mu).to(device)\n",
        "loss = nn.MSELoss()\n",
        "optm = optim.Adam(model.parameters(),lr=lr)"
      ],
      "metadata": {
        "id": "Dzp_nOkewbZV"
      },
      "execution_count": 14,
      "outputs": []
    },
    {
      "cell_type": "code",
      "source": [
        "train_losses = []\n",
        "test_losses = []\n",
        "\n",
        "for epoch in range(num_epochs):\n",
        "\n",
        "    train_loss = trainer(model, train_dataloader, loss, optm, device)\n",
        "    test_loss = evaluator(model, test_dataloader, device)\n",
        "\n",
        "    train_losses.append(train_loss)\n",
        "    test_losses.append(test_loss)\n",
        "\n",
        "    print(f'epoch: {epoch}, train Loss: {train_loss:.4f}, test Loss: {test_loss:.4f}')\n",
        "\n",
        "plt.figure(figsize=(10,5))\n",
        "plt.plot(train_losses,label=\"train_loss\")\n",
        "plt.plot(test_losses,label=\"test_loss\")\n",
        "plt.xlabel(\"epoch\")\n",
        "plt.ylabel(\"Loss\")\n",
        "plt.legend()\n",
        "plt.show()"
      ],
      "metadata": {
        "colab": {
          "base_uri": "https://localhost:8080/",
          "height": 855
        },
        "id": "ZtzeK531ML_j",
        "outputId": "85315269-5e3d-4a8d-cfa4-697c7759d413"
      },
      "execution_count": 15,
      "outputs": [
        {
          "output_type": "stream",
          "name": "stdout",
          "text": [
            "epoch: 0, train Loss: 76.0295, test Loss: 55.7922\n",
            "epoch: 1, train Loss: 24.2877, test Loss: 39.8450\n",
            "epoch: 2, train Loss: 9.6952, test Loss: 32.0878\n",
            "epoch: 3, train Loss: 4.5569, test Loss: 27.5831\n",
            "epoch: 4, train Loss: 2.5318, test Loss: 24.7920\n",
            "epoch: 5, train Loss: 1.7624, test Loss: 22.5980\n",
            "epoch: 6, train Loss: 1.6342, test Loss: 21.0972\n",
            "epoch: 7, train Loss: 1.8609, test Loss: 19.2455\n",
            "epoch: 8, train Loss: 2.1211, test Loss: 17.7290\n",
            "epoch: 9, train Loss: 2.0958, test Loss: 16.0052\n",
            "epoch: 10, train Loss: 1.7766, test Loss: 14.7791\n",
            "epoch: 11, train Loss: 1.4978, test Loss: 13.6105\n",
            "epoch: 12, train Loss: 1.4066, test Loss: 12.7365\n",
            "epoch: 13, train Loss: 1.4299, test Loss: 11.7194\n",
            "epoch: 14, train Loss: 1.4636, test Loss: 10.9326\n",
            "epoch: 15, train Loss: 1.3931, test Loss: 9.9948\n",
            "epoch: 16, train Loss: 1.2627, test Loss: 9.3661\n",
            "epoch: 17, train Loss: 1.1625, test Loss: 8.6625\n",
            "epoch: 18, train Loss: 1.1151, test Loss: 8.1070\n",
            "epoch: 19, train Loss: 1.0927, test Loss: 7.5240\n",
            "epoch: 20, train Loss: 1.0644, test Loss: 7.0356\n",
            "epoch: 21, train Loss: 1.0026, test Loss: 6.5579\n",
            "epoch: 22, train Loss: 0.9377, test Loss: 6.1337\n",
            "epoch: 23, train Loss: 0.8834, test Loss: 5.7026\n",
            "epoch: 24, train Loss: 0.8541, test Loss: 5.3568\n",
            "epoch: 25, train Loss: 0.8205, test Loss: 5.0035\n",
            "epoch: 26, train Loss: 0.7838, test Loss: 4.7177\n",
            "epoch: 27, train Loss: 0.7487, test Loss: 4.4205\n",
            "epoch: 28, train Loss: 0.7095, test Loss: 4.1595\n",
            "epoch: 29, train Loss: 0.6725, test Loss: 3.8778\n"
          ]
        },
        {
          "output_type": "display_data",
          "data": {
            "image/png": "[encoded data removed]",
            "text/plain": [
              "<Figure size 720x360 with 1 Axes>"
            ]
          },
          "metadata": {
            "needs_background": "light"
          }
        }
      ]
    },
    {
      "cell_type": "code",
      "source": [
        ""
      ],
      "metadata": {
        "id": "VTWbQMfG62Zf"
      },
      "execution_count": null,
      "outputs": []
    }
  ]
}