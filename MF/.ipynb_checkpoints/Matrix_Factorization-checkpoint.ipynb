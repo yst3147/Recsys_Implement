{
 "cells": [
  {
   "cell_type": "markdown",
   "metadata": {
    "id": "0imQjExusreI"
   },
   "source": [
    "# The MovieLens Dataset"
   ]
  },
  {
   "cell_type": "markdown",
   "metadata": {
    "id": "wCGdsEGPsurw"
   },
   "source": [
    "## Getting the Data"
   ]
  },
  {
   "cell_type": "code",
   "execution_count": 1,
   "metadata": {
    "id": "crE_yA_9s9Dp"
   },
   "outputs": [],
   "source": [
    "import os\n",
    "import pandas as pd\n",
    "import matplotlib.pyplot as plt\n",
    "import numpy as np\n",
    "import torch\n",
    "import torch.nn as nn\n",
    "import torch.optim as optim\n",
    "from torch.utils.data import DataLoader, Dataset\n",
    "\n",
    "from sklearn.model_selection import train_test_split\n",
    "from sklearn.preprocessing import LabelEncoder"
   ]
  },
  {
   "cell_type": "code",
   "execution_count": 2,
   "metadata": {
    "colab": {
     "base_uri": "https://localhost:8080/"
    },
    "id": "WA1VYX1DtNXj",
    "outputId": "d3e6cec1-6127-4a40-b4e6-2f794c96b37a"
   },
   "outputs": [
    {
     "name": "stdout",
     "output_type": "stream",
     "text": [
      "Mounted at /content/drive\n"
     ]
    }
   ],
   "source": [
    "from google.colab import drive\n",
    "drive.mount('/content/drive')"
   ]
  },
  {
   "cell_type": "code",
   "execution_count": null,
   "metadata": {
    "colab": {
     "base_uri": "https://localhost:8080/"
    },
    "id": "yoWtDvsFrsJq",
    "outputId": "98868266-6744-441c-a77e-1ff29d6f82c4"
   },
   "outputs": [],
   "source": [
    "# !wget http://files.grouplens.org/datasets/movielens/ml-latest-small.zip"
   ]
  },
  {
   "cell_type": "code",
   "execution_count": null,
   "metadata": {
    "colab": {
     "base_uri": "https://localhost:8080/"
    },
    "id": "4AtlofcEtEdz",
    "outputId": "e3b7ecef-002f-4eeb-c818-1965f1c6aa2d"
   },
   "outputs": [],
   "source": [
    "# !unzip ml-latest-small.zip -d /content/drive/MyDrive/Boostcamp_AI_Tech/Recsys_Implement/Matrix_Factorization"
   ]
  },
  {
   "cell_type": "code",
   "execution_count": 3,
   "metadata": {
    "id": "5aKNCL9GtgSw"
   },
   "outputs": [],
   "source": [
    "def read_data_ml100k():\n",
    "    data_dir = '/content/drive/MyDrive/Boostcamp_AI_Tech/Recsys_Implement/Matrix_Factorization/ml-latest-small'\n",
    "    names = ['user_id', 'item_id', 'rating', 'timestamp']\n",
    "    data = pd.read_csv(os.path.join(data_dir, 'ratings.csv'), names = names, header=0)\n",
    "    num_users = data.user_id.unique().shape[0]\n",
    "    num_items = data.item_id.unique().shape[0]\n",
    "    return data, num_users, num_items"
   ]
  },
  {
   "cell_type": "markdown",
   "metadata": {
    "id": "pg-6pPJru-Qt"
   },
   "source": [
    "## Statistics of the Dataset"
   ]
  },
  {
   "cell_type": "code",
   "execution_count": 4,
   "metadata": {
    "colab": {
     "base_uri": "https://localhost:8080/"
    },
    "id": "18TDJUZKuKiW",
    "outputId": "2c89b8c0-dd63-4644-b817-779bcc251e19"
   },
   "outputs": [
    {
     "name": "stdout",
     "output_type": "stream",
     "text": [
      "number of users: 610, number of items: 9724\n",
      "matrix sparsity: 0.983000\n",
      "   user_id  item_id  rating  timestamp\n",
      "0        1        1     4.0  964982703\n",
      "1        1        3     4.0  964981247\n",
      "2        1        6     4.0  964982224\n",
      "3        1       47     5.0  964983815\n",
      "4        1       50     5.0  964982931\n"
     ]
    }
   ],
   "source": [
    "data, num_users, num_items = read_data_ml100k()\n",
    "sparsity = 1 - len(data) / (num_users * num_items)\n",
    "print(f'number of users: {num_users}, number of items: {num_items}')\n",
    "print(f'matrix sparsity: {sparsity:f}')\n",
    "print(data.head())"
   ]
  },
  {
   "cell_type": "code",
   "execution_count": 5,
   "metadata": {
    "colab": {
     "base_uri": "https://localhost:8080/",
     "height": 295
    },
    "id": "ZBOcxp3TuMET",
    "outputId": "eda829f0-1123-4e2c-8f90-ef624633337c"
   },
   "outputs": [
    {
     "data": {
      "image/png": "[encoded data removed]",
      "text/plain": [
       "<Figure size 432x288 with 1 Axes>"
      ]
     },
     "metadata": {
      "needs_background": "light"
     },
     "output_type": "display_data"
    }
   ],
   "source": [
    "plt.hist(data['rating'], bins=5, ec='black')\n",
    "plt.xlabel('Rating')\n",
    "plt.ylabel('Count')\n",
    "plt.title('Distribution of Ratings in MovieLens 100K')\n",
    "plt.show()"
   ]
  },
  {
   "cell_type": "markdown",
   "metadata": {
    "id": "kSVEDkhRAC2l"
   },
   "source": [
    "## Label Encoding"
   ]
  },
  {
   "cell_type": "code",
   "execution_count": 6,
   "metadata": {
    "id": "F41LX-_GAB1O"
   },
   "outputs": [],
   "source": [
    "user_le = LabelEncoder()\n",
    "item_le = LabelEncoder()\n",
    "data['user_id_idx'] = user_le.fit_transform(data['user_id'].values)\n",
    "data['item_id_idx'] = item_le.fit_transform(data['item_id'].values)"
   ]
  },
  {
   "cell_type": "markdown",
   "metadata": {
    "id": "gPElEHqYFdke"
   },
   "source": [
    "## Mu"
   ]
  },
  {
   "cell_type": "code",
   "execution_count": 7,
   "metadata": {
    "id": "Rqhla1WuFgxe"
   },
   "outputs": [],
   "source": [
    "mu = torch.tensor(data['rating'].mean())"
   ]
  },
  {
   "cell_type": "markdown",
   "metadata": {
    "id": "OzBvdP4J-9B9"
   },
   "source": [
    "## Loading the data"
   ]
  },
  {
   "cell_type": "code",
   "execution_count": 8,
   "metadata": {
    "id": "_U_rQGQr6bac"
   },
   "outputs": [],
   "source": [
    "class MovieLensDataset(Dataset):\n",
    "    def __init__(self, df, train_size=0.9, train=False):\n",
    "        self.df = df\n",
    "        self.train = train\n",
    "        self.train_size = train_size\n",
    "        self.test_size = 1 - self.train_size \n",
    "\n",
    "        self.train_df, self.test_df = train_test_split(self.df, test_size=self.test_size, train_size=self.train_size, random_state=1234)\n",
    "\n",
    "        if self.train == True:\n",
    "            self.df = self.train_df\n",
    "        else:\n",
    "            self.df = self.test_df\n",
    "\n",
    "        self.users = torch.tensor(self.df['user_id_idx'].values)\n",
    "        self.items = torch.tensor(self.df['item_id_idx'].values)\n",
    "        self.ratings = torch.tensor(self.df['rating'].values)\n",
    "\n",
    "    def __len__(self):\n",
    "        return len(self.df)\n",
    "\n",
    "    def __getitem__(self, index):\n",
    "        users = self.users[index]\n",
    "        items = self.items[index]\n",
    "        ratings = self.ratings[index]\n",
    "        return (users, items, ratings.float())"
   ]
  },
  {
   "cell_type": "markdown",
   "metadata": {
    "id": "8Uvcja0PabxM"
   },
   "source": [
    "# The Matrix Factorization Model"
   ]
  },
  {
   "cell_type": "code",
   "execution_count": 9,
   "metadata": {
    "id": "bwVDYRK938DZ"
   },
   "outputs": [],
   "source": [
    "class MF(nn.Module):\n",
    "    def __init__(self, num_factors, num_users, num_items, mu):\n",
    "        super(MF, self).__init__()\n",
    "        self.P = nn.Embedding(num_users, num_factors)\n",
    "        self.Q = nn.Embedding(num_items, num_factors)\n",
    "        self.user_bias = nn.Embedding(num_users, 1)\n",
    "        self.item_bias = nn.Embedding(num_items, 1)\n",
    "        self.mu = mu\n",
    "\n",
    "    def forward(self, user_id, item_id):\n",
    "        P_u = self.P(user_id)\n",
    "        Q_i = self.Q(item_id)\n",
    "        b_u = self.user_bias(user_id)\n",
    "        b_i = self.item_bias(item_id)\n",
    "        mu = self.mu\n",
    "        \n",
    "        outputs = torch.sum((P_u * Q_i), axis = 1) + torch.squeeze(b_u) + torch.squeeze(b_i) + mu\n",
    "        return outputs.flatten()"
   ]
  },
  {
   "cell_type": "markdown",
   "metadata": {
    "id": "HmKzUNVYl2B4"
   },
   "source": [
    "## Training and Evaluating the Model"
   ]
  },
  {
   "cell_type": "code",
   "execution_count": 10,
   "metadata": {
    "id": "6-vWFsDZl7GZ"
   },
   "outputs": [],
   "source": [
    "def trainer(model, train_iter, loss, optm, device):\n",
    "    model.train() # to train mode\n",
    "    loss_sum = 0\n",
    "\n",
    "    for i, (users, items, ratings) in enumerate(train_iter):\n",
    "        users = users.to(device)\n",
    "        items = items.to(device)\n",
    "        ratings = ratings.to(device)      \n",
    "\n",
    "        preds = model(users, items)\n",
    "        loss_out = loss(preds, ratings)\n",
    "\n",
    "        # Update\n",
    "        optm.zero_grad()      # reset gradient \n",
    "        loss_out.backward()      # backpropagate\n",
    "        optm.step()      # optimizer update\n",
    "        \n",
    "        loss_sum += loss_out.item()\n",
    "    \n",
    "    loss_avg = loss_sum / len(train_iter)\n",
    "\n",
    "    return loss_avg"
   ]
  },
  {
   "cell_type": "code",
   "execution_count": 11,
   "metadata": {
    "id": "uBdquVPhhJlR"
   },
   "outputs": [],
   "source": [
    "def evaluator(model, test_iter, device):\n",
    "    with torch.no_grad():\n",
    "        model.eval()\n",
    "        loss = nn.MSELoss()\n",
    "        loss_sum = 0\n",
    "\n",
    "        for idx, (users, items, ratings) in enumerate(test_iter):\n",
    "            users = users.to(device)\n",
    "            items = items.to(device)\n",
    "            ratings = ratings.to(device)\n",
    "            \n",
    "            preds = model(users, items)\n",
    "\n",
    "            loss_out = loss(preds, ratings)            \n",
    "\n",
    "            loss_sum += loss_out.item()\n",
    "\n",
    "        loss_avg = loss_sum / len(test_iter)\n",
    "\n",
    "    return loss_avg"
   ]
  },
  {
   "cell_type": "code",
   "execution_count": 12,
   "metadata": {
    "id": "rDzQu3sUCYfS"
   },
   "outputs": [],
   "source": [
    "device = torch.device('cuda:0' if torch.cuda.is_available() else 'cpu')\n",
    "\n",
    "num_epochs = 30\n",
    "lr = 0.005\n",
    "mf_factor = 100\n",
    "batch_size = 128\n",
    "\n",
    "num_users = data.user_id_idx.max() + 1\n",
    "num_items = data.item_id_idx.max() + 1"
   ]
  },
  {
   "cell_type": "code",
   "execution_count": 13,
   "metadata": {
    "id": "duxvo9hYmRB2"
   },
   "outputs": [],
   "source": [
    "train_dataset = MovieLensDataset(df=data, train=True)\n",
    "test_dataset = MovieLensDataset(df=data, train=False)\n",
    "\n",
    "train_dataloader = DataLoader(dataset=train_dataset, batch_size=batch_size, shuffle=True) \n",
    "test_dataloader = DataLoader(dataset=test_dataset, batch_size=batch_size, shuffle=False)"
   ]
  },
  {
   "cell_type": "code",
   "execution_count": 14,
   "metadata": {
    "id": "Dzp_nOkewbZV"
   },
   "outputs": [],
   "source": [
    "model = MF(mf_factor, num_users, num_items, mu).to(device)\n",
    "loss = nn.MSELoss()\n",
    "optm = optim.Adam(model.parameters(),lr=lr)"
   ]
  },
  {
   "cell_type": "code",
   "execution_count": 15,
   "metadata": {
    "colab": {
     "base_uri": "https://localhost:8080/",
     "height": 855
    },
    "id": "ZtzeK531ML_j",
    "outputId": "9c68c162-cb04-44c0-c171-6a6b32e61860"
   },
   "outputs": [
    {
     "name": "stdout",
     "output_type": "stream",
     "text": [
      "epoch: 0, train Loss: 78.5482, test Loss: 58.7249\n",
      "epoch: 1, train Loss: 25.1575, test Loss: 42.0506\n",
      "epoch: 2, train Loss: 10.1143, test Loss: 33.8874\n",
      "epoch: 3, train Loss: 4.7592, test Loss: 29.2016\n",
      "epoch: 4, train Loss: 2.6320, test Loss: 26.2112\n",
      "epoch: 5, train Loss: 1.8248, test Loss: 24.0745\n",
      "epoch: 6, train Loss: 1.6782, test Loss: 22.1298\n",
      "epoch: 7, train Loss: 1.8735, test Loss: 20.4343\n",
      "epoch: 8, train Loss: 2.0955, test Loss: 18.6814\n",
      "epoch: 9, train Loss: 2.0769, test Loss: 17.0417\n",
      "epoch: 10, train Loss: 1.8119, test Loss: 15.5885\n",
      "epoch: 11, train Loss: 1.5362, test Loss: 14.4667\n",
      "epoch: 12, train Loss: 1.4290, test Loss: 13.4449\n",
      "epoch: 13, train Loss: 1.4349, test Loss: 12.4482\n",
      "epoch: 14, train Loss: 1.4505, test Loss: 11.5055\n",
      "epoch: 15, train Loss: 1.3925, test Loss: 10.6288\n",
      "epoch: 16, train Loss: 1.2802, test Loss: 9.8602\n",
      "epoch: 17, train Loss: 1.1812, test Loss: 9.1841\n",
      "epoch: 18, train Loss: 1.1208, test Loss: 8.5394\n",
      "epoch: 19, train Loss: 1.0886, test Loss: 7.9943\n",
      "epoch: 20, train Loss: 1.0496, test Loss: 7.3689\n",
      "epoch: 21, train Loss: 1.0100, test Loss: 6.8829\n",
      "epoch: 22, train Loss: 0.9467, test Loss: 6.4126\n",
      "epoch: 23, train Loss: 0.9001, test Loss: 6.0420\n",
      "epoch: 24, train Loss: 0.8548, test Loss: 5.5774\n",
      "epoch: 25, train Loss: 0.8162, test Loss: 5.2647\n",
      "epoch: 26, train Loss: 0.7812, test Loss: 4.8957\n",
      "epoch: 27, train Loss: 0.7523, test Loss: 4.6437\n",
      "epoch: 28, train Loss: 0.7175, test Loss: 4.3120\n",
      "epoch: 29, train Loss: 0.6769, test Loss: 4.0261\n"
     ]
    },
    {
     "data": {
      "image/png": "[encoded data removed]",
      "text/plain": [
       "<Figure size 720x360 with 1 Axes>"
      ]
     },
     "metadata": {
      "needs_background": "light"
     },
     "output_type": "display_data"
    }
   ],
   "source": [
    "train_losses = []\n",
    "test_losses = []\n",
    "\n",
    "for epoch in range(num_epochs):\n",
    "\n",
    "    train_loss = trainer(model, train_dataloader, loss, optm, device)\n",
    "    test_loss = evaluator(model, test_dataloader, device)\n",
    "\n",
    "    train_losses.append(train_loss)\n",
    "    test_losses.append(test_loss)\n",
    "\n",
    "    print(f'epoch: {epoch}, train Loss: {train_loss:.4f}, test Loss: {test_loss:.4f}')\n",
    "\n",
    "plt.figure(figsize=(10,5))\n",
    "plt.plot(train_losses,label=\"train_loss\")\n",
    "plt.plot(test_losses,label=\"test_loss\")\n",
    "plt.xlabel(\"epoch\")\n",
    "plt.ylabel(\"Loss\")\n",
    "plt.legend()\n",
    "plt.show()"
   ]
  },
  {
   "cell_type": "code",
   "execution_count": null,
   "metadata": {
    "id": "AoJMiQ1aYlIh"
   },
   "outputs": [],
   "source": []
  }
 ],
 "metadata": {
  "accelerator": "GPU",
  "colab": {
   "collapsed_sections": [],
   "machine_shape": "hm",
   "name": "Matrix_Factorization.ipynb",
   "provenance": []
  },
  "kernelspec": {
   "display_name": "Python 3",
   "language": "python",
   "name": "python3"
  },
  "language_info": {
   "codemirror_mode": {
    "name": "ipython",
    "version": 3
   },
   "file_extension": ".py",
   "mimetype": "text/x-python",
   "name": "python",
   "nbconvert_exporter": "python",
   "pygments_lexer": "ipython3",
   "version": "3.8.5"
  }
 },
 "nbformat": 4,
 "nbformat_minor": 1
}
